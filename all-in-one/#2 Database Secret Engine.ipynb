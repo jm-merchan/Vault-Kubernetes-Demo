{
 "cells": [
  {
   "attachments": {},
   "cell_type": "markdown",
   "id": "0eb61c7e",
   "metadata": {},
   "source": [
    "# [Database Secret Engine](https://developer.hashicorp.com/vault/tutorials/db-credentials/database-secrets)"
   ]
  },
  {
   "cell_type": "code",
   "execution_count": 1,
   "id": "a8cbeebb",
   "metadata": {},
   "outputs": [
    {
     "name": "stdout",
     "output_type": "stream",
     "text": [
      "env: WORKDIR=/tmp/vault\n"
     ]
    }
   ],
   "source": [
    "%env  WORKDIR=/tmp/vault                 "
   ]
  },
  {
   "cell_type": "code",
   "execution_count": 2,
   "id": "1760f9ee",
   "metadata": {},
   "outputs": [
    {
     "name": "stdout",
     "output_type": "stream",
     "text": [
      "hvs.IjWOxR9d1SAPnTJY1IidfVNE\n"
     ]
    }
   ],
   "source": [
    "%%bash\n",
    "cat ${WORKDIR}/cluster-keys.json | jq -r \".root_token\""
   ]
  },
  {
   "cell_type": "code",
   "execution_count": 3,
   "id": "06adce76",
   "metadata": {},
   "outputs": [
    {
     "name": "stdout",
     "output_type": "stream",
     "text": [
      "env: VAULT_ADDR=https://127.0.0.1:8200\n",
      "env: VAULT_TOKEN=hvs.IjWOxR9d1SAPnTJY1IidfVNE\n",
      "env: VAULT_CACERT=/tmp/vault/vault.ca\n"
     ]
    }
   ],
   "source": [
    "# Replace VAULT_TOKEN with output value from previous cell\n",
    "%env VAULT_ADDR=https://127.0.0.1:8200\n",
    "%env VAULT_TOKEN=hvs.IjWOxR9d1SAPnTJY1IidfVNE\n",
    "%env VAULT_CACERT=/tmp/vault/vault.ca"
   ]
  },
  {
   "attachments": {},
   "cell_type": "markdown",
   "id": "fda5480c",
   "metadata": {},
   "source": [
    "## Step 1: Install PostgreSQL"
   ]
  },
  {
   "cell_type": "code",
   "execution_count": 6,
   "id": "d9d28b1e",
   "metadata": {},
   "outputs": [
    {
     "name": "stdout",
     "output_type": "stream",
     "text": [
      "\"bitnami\" already exists with the same configuration, skipping\n",
      "Hang tight while we grab the latest from your chart repositories...\n",
      "...Successfully got an update from the \"jaeger-all-in-one\" chart repository\n",
      "...Successfully got an update from the \"secrets-store-csi-driver\" chart repository\n",
      "...Successfully got an update from the \"hashicorp\" chart repository\n",
      "...Successfully got an update from the \"jaegertracing\" chart repository\n",
      "...Successfully got an update from the \"signoz\" chart repository\n",
      "...Successfully got an update from the \"jetstack\" chart repository\n",
      "...Successfully got an update from the \"external-secrets\" chart repository\n",
      "...Successfully got an update from the \"datadog\" chart repository\n",
      "...Successfully got an update from the \"bitnami\" chart repository\n",
      "...Successfully got an update from the \"gitlab\" chart repository\n",
      "Update Complete. ⎈Happy Helming!⎈\n",
      "persistentvolume/postgresql-data unchanged\n",
      "persistentvolumeclaim/postgresql-data-claim unchanged\n",
      "NAME: postgresql-dev\n",
      "LAST DEPLOYED: Tue May 23 07:05:15 2023\n",
      "NAMESPACE: vault\n",
      "STATUS: deployed\n",
      "REVISION: 1\n",
      "TEST SUITE: None\n",
      "NOTES:\n",
      "CHART NAME: postgresql\n",
      "CHART VERSION: 12.5.4\n",
      "APP VERSION: 15.3.0\n",
      "\n",
      "** Please be patient while the chart is being deployed **\n",
      "\n",
      "PostgreSQL can be accessed via port 5432 on the following DNS names from within your cluster:\n",
      "\n",
      "    postgresql-dev.vault.svc.cluster.local - Read/Write connection\n",
      "\n",
      "To get the password for \"postgres\" run:\n",
      "\n",
      "    export POSTGRES_ADMIN_PASSWORD=$(kubectl get secret --namespace vault postgresql-dev -o jsonpath=\"{.data.postgres-password}\" | base64 -d)\n",
      "\n",
      "To get the password for \"app1\" run:\n",
      "\n",
      "    export POSTGRES_PASSWORD=$(kubectl get secret --namespace vault postgresql-dev -o jsonpath=\"{.data.password}\" | base64 -d)\n",
      "\n",
      "To connect to your database run the following command:\n",
      "\n",
      "    kubectl run postgresql-dev-client --rm --tty -i --restart='Never' --namespace vault --image docker.io/bitnami/postgresql:15.3.0-debian-11-r4 --env=\"PGPASSWORD=$POSTGRES_PASSWORD\" \\\n",
      "      --command -- psql --host postgresql-dev -U app1 -d app_db -p 5432\n",
      "\n",
      "    > NOTE: If you access the container using bash, make sure that you execute \"/opt/bitnami/scripts/postgresql/entrypoint.sh /bin/bash\" in order to avoid the error \"psql: local user with ID 1001} does not exist\"\n",
      "\n",
      "To connect to your database from outside the cluster execute the following commands:\n",
      "\n",
      "    kubectl port-forward --namespace vault svc/postgresql-dev 5432:5432 &\n",
      "    PGPASSWORD=\"$POSTGRES_PASSWORD\" psql --host 127.0.0.1 -U app1 -d app_db -p 5432\n",
      "\n",
      "WARNING: The configured password will be ignored on new installation in case when previous Posgresql release was deleted through the helm command. In that case, old PVC will have an old password, and setting it through helm won't take effect. Deleting persistent volumes (PVs) will solve the issue.\n"
     ]
    }
   ],
   "source": [
    "%%bash\n",
    "# Add Helm repository by Bitnami\n",
    "helm repo add bitnami https://charts.bitnami.com/bitnami\n",
    "\n",
    "# Update Helm index charts\n",
    "helm repo update\n",
    "kubectl apply -f local-pv.yaml\n",
    "kubectl apply -f pv-claim.yaml\n",
    "# volumePermissions for EKS\n",
    "helm install postgresql-dev -f postgres.yaml bitnami/postgresql -n vault --set volumePermissions.enabled=true"
   ]
  },
  {
   "cell_type": "raw",
   "id": "6433c723",
   "metadata": {},
   "source": [
    "## In a terminal\n",
    "# Create a role for the DB\n",
    "# Wait few seconds for db to start: kubectl get pods -n vault\n",
    "\n",
    "kubectl exec -i -t postgresql-dev-0 -n vault -- /bin/bash\n",
    "----\n",
    "export PGPASSWORD=StrongPassword; psql --host 127.0.0.1 -U postgres -c \"CREATE ROLE \\\"ro\\\" NOINHERIT;\"\n",
    "\n",
    "---\n",
    "export PGPASSWORD=StrongPassword; psql --host 127.0.0.1 -U postgres -c \"GRANT SELECT ON ALL TABLES IN SCHEMA public TO \\\"ro\\\";\"\n"
   ]
  },
  {
   "attachments": {},
   "cell_type": "markdown",
   "id": "cdcbd4a7",
   "metadata": {},
   "source": [
    "## Enable the database secret engine"
   ]
  },
  {
   "cell_type": "code",
   "execution_count": 7,
   "id": "09a8b436",
   "metadata": {},
   "outputs": [
    {
     "name": "stdout",
     "output_type": "stream",
     "text": [
      "Success! Enabled the database secrets engine at: database/\n",
      "Success! Data written to: database/config/postgresql\n"
     ]
    }
   ],
   "source": [
    "%%bash\n",
    "export POSTGRES_URL=postgresql-dev.vault.svc.cluster.local\n",
    "# Enable engine\n",
    "vault secrets enable database\n",
    "\n",
    "# Configure the database secrets engine with the connection credentials for the Postgres database.\n",
    "vault write database/config/postgresql \\\n",
    "     plugin_name=postgresql-database-plugin \\\n",
    "     connection_url=\"postgresql://{{username}}:{{password}}@$POSTGRES_URL/postgres?sslmode=disable\" \\\n",
    "     allowed_roles=* \\\n",
    "     username=\"postgres\" \\\n",
    "     password=\"StrongPassword\"\n"
   ]
  },
  {
   "attachments": {},
   "cell_type": "markdown",
   "id": "049a6e6d",
   "metadata": {},
   "source": [
    "## Create a role in Vault"
   ]
  },
  {
   "cell_type": "code",
   "execution_count": 8,
   "id": "757a944d",
   "metadata": {},
   "outputs": [],
   "source": [
    "%%bash\n",
    "cat > ${WORKDIR}/readonly.sql <<EOF\n",
    "CREATE ROLE \"{{name}}\" WITH LOGIN PASSWORD '{{password}}' VALID UNTIL '{{expiration}}' INHERIT;\n",
    "GRANT ro TO \"{{name}}\";\n",
    "EOF\n"
   ]
  },
  {
   "cell_type": "code",
   "execution_count": 9,
   "id": "2fd281fb",
   "metadata": {},
   "outputs": [
    {
     "name": "stdout",
     "output_type": "stream",
     "text": [
      "Success! Data written to: database/roles/readonly\n"
     ]
    }
   ],
   "source": [
    "%%bash\n",
    "vault write database/roles/readonly \\\n",
    "      db_name=postgresql \\\n",
    "      creation_statements=@${WORKDIR}/readonly.sql \\\n",
    "      default_ttl=1h \\\n",
    "      max_ttl=24h\n"
   ]
  },
  {
   "attachments": {},
   "cell_type": "markdown",
   "id": "d76e7e9f",
   "metadata": {},
   "source": [
    "# Demo"
   ]
  },
  {
   "attachments": {},
   "cell_type": "markdown",
   "id": "eb6ad239",
   "metadata": {},
   "source": [
    "## Request Credentials"
   ]
  },
  {
   "cell_type": "code",
   "execution_count": 10,
   "id": "941feb15",
   "metadata": {},
   "outputs": [
    {
     "name": "stdout",
     "output_type": "stream",
     "text": [
      "Key                Value\n",
      "---                -----\n",
      "lease_id           database/creds/readonly/7MUFrnllV2OHQFGqt2hd8WZi\n",
      "lease_duration     1h\n",
      "lease_renewable    true\n",
      "password           31EQNt75WZCMmKOVL-vQ\n",
      "username           v-root-readonly-WGNkZeiRqaPiznNRLjKQ-1684818420\n"
     ]
    }
   ],
   "source": [
    "%%bash\n",
    "#via CLI\n",
    "vault read database/creds/readonly"
   ]
  },
  {
   "cell_type": "code",
   "execution_count": 11,
   "id": "0e16d740",
   "metadata": {},
   "outputs": [
    {
     "name": "stdout",
     "output_type": "stream",
     "text": [
      "{\n",
      "  \"request_id\": \"26caea95-418c-5351-37ee-2ecc8581a7dd\",\n",
      "  \"lease_id\": \"database/creds/readonly/YV8WNcR2Zk2YEChJudelsBQ2\",\n",
      "  \"renewable\": true,\n",
      "  \"lease_duration\": 3600,\n",
      "  \"data\": {\n",
      "    \"password\": \"Hlb1sjmQkb1wiQ-kidaz\",\n",
      "    \"username\": \"v-root-readonly-ee6ldk5Maks22rg4btKR-1684818433\"\n",
      "  },\n",
      "  \"wrap_info\": null,\n",
      "  \"warnings\": null,\n",
      "  \"auth\": null\n",
      "}\n"
     ]
    }
   ],
   "source": [
    "%%bash\n",
    "#via API\n",
    "curl -k --header \"X-Vault-Token: $VAULT_TOKEN\" \\\n",
    "       --silent \\\n",
    "       --request GET \\\n",
    "       $VAULT_ADDR/v1/database/creds/readonly | jq -r .\n"
   ]
  },
  {
   "cell_type": "raw",
   "id": "ce09490d",
   "metadata": {},
   "source": [
    "## In a terminal\n",
    "## Check the database accounts directly\n",
    "\n",
    "kubectl exec -i -t postgresql-dev-0 -n vault -- /bin/bash\n",
    "export PGPASSWORD=StrongPassword; psql -U postgres -c \"SELECT usename, valuntil FROM pg_user;\"\n"
   ]
  },
  {
   "cell_type": "code",
   "execution_count": 12,
   "id": "cc3c6374",
   "metadata": {},
   "outputs": [
    {
     "name": "stdout",
     "output_type": "stream",
     "text": [
      "Keys\n",
      "----\n",
      "7MUFrnllV2OHQFGqt2hd8WZi\n",
      "YV8WNcR2Zk2YEChJudelsBQ2\n"
     ]
    }
   ],
   "source": [
    "%%bash\n",
    "## Check leases\n",
    "vault list sys/leases/lookup/database/creds/readonly"
   ]
  },
  {
   "attachments": {},
   "cell_type": "markdown",
   "id": "9b435420",
   "metadata": {},
   "source": [
    "## Rotate Root password"
   ]
  },
  {
   "cell_type": "code",
   "execution_count": null,
   "id": "03f7f1fa",
   "metadata": {},
   "outputs": [],
   "source": [
    "%%bash\n",
    "vault write -force database/rotate-root/postgresql"
   ]
  },
  {
   "attachments": {},
   "cell_type": "markdown",
   "id": "3e2fb5f9",
   "metadata": {},
   "source": [
    "## Clean up"
   ]
  },
  {
   "cell_type": "raw",
   "id": "317146c2",
   "metadata": {},
   "source": [
    "%%bash\n",
    "vault secrets disable database\n",
    "helm uninstall postgresql-dev -n vault\n",
    "kubectl delete pvc postgresql-data-claim -n vault\n",
    "kubectl delete pv postgresql-data -n vault"
   ]
  }
 ],
 "metadata": {
  "kernelspec": {
   "display_name": "Python 3 (ipykernel)",
   "language": "python",
   "name": "python3"
  },
  "language_info": {
   "codemirror_mode": {
    "name": "ipython",
    "version": 3
   },
   "file_extension": ".py",
   "mimetype": "text/x-python",
   "name": "python",
   "nbconvert_exporter": "python",
   "pygments_lexer": "ipython3",
   "version": "3.9.6"
  }
 },
 "nbformat": 4,
 "nbformat_minor": 5
}
