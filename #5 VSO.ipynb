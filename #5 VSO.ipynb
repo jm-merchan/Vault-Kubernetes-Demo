{
 "cells": [
  {
   "cell_type": "code",
   "execution_count": 1,
   "metadata": {},
   "outputs": [
    {
     "name": "stdout",
     "output_type": "stream",
     "text": [
      "env: WORKDIR=/tmp/vault\n",
      "env: VAULT_K8S_NAMESPACE=vault\n",
      "env: VAULT_HELM_RELEASE_NAME=vault\n",
      "env: VAULT_SERVICE_NAME=vault-internal\n",
      "env: K8S_CLUSTER_NAME=cluster.local\n"
     ]
    }
   ],
   "source": [
    "%env WORKDIR=/tmp/vault\n",
    "%env VAULT_K8S_NAMESPACE=vault\n",
    "%env VAULT_HELM_RELEASE_NAME=vault\n",
    "%env VAULT_SERVICE_NAME=vault-internal \n",
    "%env K8S_CLUSTER_NAME=cluster.local "
   ]
  },
  {
   "cell_type": "code",
   "execution_count": 2,
   "metadata": {},
   "outputs": [],
   "source": [
    "%%bash\n",
    "cat > ${WORKDIR}/overrides_vso.yaml <<EOF\n",
    "global:\n",
    "   enabled: true\n",
    "   tlsDisable: false # Disabling TLS to avoid issues when connecting to Vault via port forwarding\n",
    "\n",
    "csi:\n",
    "  enabled: false\n",
    "  image:\n",
    "    repository: hashicorp/vault-csi-provider\n",
    "\n",
    "\n",
    "injector:\n",
    "   enabled: false\n",
    "   #repository: registry.connect.redhat.com/hashicorp/vault-k8s\n",
    "   # Testing on Mac M1 so moving to arm image\n",
    "   image:\n",
    "      repository: docker.io/hashicorp/vault-k8s\n",
    "      #repository: registry.connect.redhat.com/hashicorp/vault-k8s\n",
    "      # Testing on Mac M1 so moving to arm image\n",
    "   agentImage:\n",
    "      repository: docker.io/hashicorp/vault\n",
    "      #repository: registry.connect.redhat.com/hashicorp/vault\n",
    "      # Testing on Mac M1 so moving to arm image\n",
    "\n",
    "# Supported log levels include: trace, debug, info, warn, error\n",
    "logLevel: \"trace\" # Set to trace for initial troubleshooting, info for normal operation\n",
    "\n",
    "server:\n",
    "# config.yaml\n",
    "   image:\n",
    "      repository: docker.io/hashicorp/vault-enterprise\n",
    "      tag: 1.13.1-ent\n",
    "\n",
    "   enterpriseLicense:\n",
    "      secretName: vault-ent-license\n",
    "   extraEnvironmentVars:\n",
    "      VAULT_CACERT: /vault/userconfig/vault-ha-tls/vault.ca\n",
    "      VAULT_TLSCERT: /vault/userconfig/vault-ha-tls/vault.crt\n",
    "      VAULT_TLSKEY: /vault/userconfig/vault-ha-tls/vault.key\n",
    "   volumes:\n",
    "      - name: userconfig-vault-ha-tls\n",
    "        secret:\n",
    "         defaultMode: 420\n",
    "         secretName: vault-ha-tls\n",
    "   volumeMounts:\n",
    "      - mountPath: /vault/userconfig/vault-ha-tls\n",
    "        name: userconfig-vault-ha-tls\n",
    "        readOnly: true\n",
    "   standalone:\n",
    "      enabled: false\n",
    "   affinity: \"\"\n",
    "   ha:\n",
    "      enabled: true\n",
    "      replicas: 3\n",
    "      raft:\n",
    "         enabled: true\n",
    "         setNodeId: true\n",
    "         config: |\n",
    "            ui = true\n",
    "            listener \"tcp\" {\n",
    "               tls_disable = 0 # Disabling TLS to avoid issues when connecting to Vault via port forwarding\n",
    "               address = \"[::]:8200\"\n",
    "               cluster_address = \"[::]:8201\"\n",
    "               tls_cert_file = \"/vault/userconfig/vault-ha-tls/vault.crt\"\n",
    "               tls_key_file  = \"/vault/userconfig/vault-ha-tls/vault.key\"\n",
    "               tls_client_ca_file = \"/vault/userconfig/vault-ha-tls/vault.ca\"\n",
    "               api_address = \"https://vault-active.vault.svc.cluster.local:8200\"\n",
    "            }\n",
    "            storage \"raft\" {\n",
    "               path = \"/vault/data\"\n",
    "            \n",
    "               retry_join {\n",
    "                  auto_join             = \"provider=k8s namespace=vault label_selector=\\\"component=server,app.kubernetes.io/name=vault\\\"\"\n",
    "                  auto_join_scheme      = \"https\"\n",
    "                  leader_ca_cert_file   = \"/vault/userconfig/vault-ha-tls/vault.ca\"\n",
    "                  leader_tls_servername = \"vaultpr-0.vault-internal\" #Tiene que matchear una SAN del certificado\n",
    "               }\n",
    "            \n",
    "            }\n",
    "            disable_mlock = true\n",
    "            service_registration \"kubernetes\" {}\n",
    "EOF\n"
   ]
  },
  {
   "cell_type": "code",
   "execution_count": 3,
   "metadata": {},
   "outputs": [
    {
     "name": "stdout",
     "output_type": "stream",
     "text": [
      "Release \"vault\" has been upgraded. Happy Helming!\n",
      "NAME: vault\n",
      "LAST DEPLOYED: Mon May 22 17:51:07 2023\n",
      "NAMESPACE: vault\n",
      "STATUS: deployed\n",
      "REVISION: 2\n",
      "NOTES:\n",
      "Thank you for installing HashiCorp Vault!\n",
      "\n",
      "Now that you have deployed Vault, you should look over the docs on using\n",
      "Vault with Kubernetes available here:\n",
      "\n",
      "https://www.vaultproject.io/docs/\n",
      "\n",
      "\n",
      "Your release is named vault. To learn more about the release, try:\n",
      "\n",
      "  $ helm status vault\n",
      "  $ helm get manifest vault\n"
     ]
    }
   ],
   "source": [
    "%%bash\n",
    "helm upgrade -n $VAULT_K8S_NAMESPACE $VAULT_HELM_RELEASE_NAME hashicorp/vault -f ${WORKDIR}/overrides_vso.yaml "
   ]
  },
  {
   "cell_type": "code",
   "execution_count": 4,
   "metadata": {},
   "outputs": [
    {
     "name": "stdout",
     "output_type": "stream",
     "text": [
      "Key                     Value\n",
      "---                     -----\n",
      "Seal Type               shamir\n",
      "Initialized             true\n",
      "Sealed                  false\n",
      "Total Shares            1\n",
      "Threshold               1\n",
      "Version                 1.13.1+ent\n",
      "Build Date              2023-03-23T20:09:57Z\n",
      "Storage Type            raft\n",
      "Cluster Name            vault-cluster-7156bb83\n",
      "Cluster ID              1bdac7f0-bbcf-7efa-33c2-9f4fe15f5d9b\n",
      "HA Enabled              true\n",
      "HA Cluster              https://vault-0.vault-internal:8201\n",
      "HA Mode                 active\n",
      "Active Since            2023-05-22T15:50:03.887529469Z\n",
      "Raft Committed Index    124\n",
      "Raft Applied Index      124\n",
      "Last WAL                33\n"
     ]
    }
   ],
   "source": [
    "%%bash\n",
    "kubectl exec -n $VAULT_K8S_NAMESPACE vault-0 -- vault operator unseal $(jq -r \".unseal_keys_b64[]\" ${WORKDIR}/cluster-keys.json)"
   ]
  },
  {
   "cell_type": "code",
   "execution_count": 5,
   "metadata": {},
   "outputs": [
    {
     "name": "stdout",
     "output_type": "stream",
     "text": [
      "Key                                    Value\n",
      "---                                    -----\n",
      "Seal Type                              shamir\n",
      "Initialized                            true\n",
      "Sealed                                 false\n",
      "Total Shares                           1\n",
      "Threshold                              1\n",
      "Version                                1.13.1+ent\n",
      "Build Date                             2023-03-23T20:09:57Z\n",
      "Storage Type                           raft\n",
      "Cluster Name                           vault-cluster-7156bb83\n",
      "Cluster ID                             1bdac7f0-bbcf-7efa-33c2-9f4fe15f5d9b\n",
      "HA Enabled                             true\n",
      "HA Cluster                             https://vault-0.vault-internal:8201\n",
      "HA Mode                                standby\n",
      "Active Node Address                    https://10.244.0.4:8200\n",
      "Performance Standby Node               true\n",
      "Performance Standby Last Remote WAL    0\n",
      "Raft Committed Index                   126\n",
      "Raft Applied Index                     126\n"
     ]
    }
   ],
   "source": [
    "%%bash\n",
    "kubectl exec -n $VAULT_K8S_NAMESPACE vault-1 -- vault operator unseal $(jq -r \".unseal_keys_b64[]\" ${WORKDIR}/cluster-keys.json)"
   ]
  },
  {
   "cell_type": "code",
   "execution_count": 6,
   "metadata": {},
   "outputs": [
    {
     "name": "stdout",
     "output_type": "stream",
     "text": [
      "Key                                    Value\n",
      "---                                    -----\n",
      "Seal Type                              shamir\n",
      "Initialized                            true\n",
      "Sealed                                 false\n",
      "Total Shares                           1\n",
      "Threshold                              1\n",
      "Version                                1.13.1+ent\n",
      "Build Date                             2023-03-23T20:09:57Z\n",
      "Storage Type                           raft\n",
      "Cluster Name                           vault-cluster-7156bb83\n",
      "Cluster ID                             1bdac7f0-bbcf-7efa-33c2-9f4fe15f5d9b\n",
      "HA Enabled                             true\n",
      "HA Cluster                             https://vault-0.vault-internal:8201\n",
      "HA Mode                                standby\n",
      "Active Node Address                    https://10.244.0.4:8200\n",
      "Performance Standby Node               true\n",
      "Performance Standby Last Remote WAL    0\n",
      "Raft Committed Index                   128\n",
      "Raft Applied Index                     128\n"
     ]
    }
   ],
   "source": [
    "%%bash\n",
    "kubectl exec -n $VAULT_K8S_NAMESPACE vault-2 -- vault operator unseal $(jq -r \".unseal_keys_b64[]\" ${WORKDIR}/cluster-keys.json)"
   ]
  },
  {
   "cell_type": "raw",
   "metadata": {},
   "source": [
    "##In a terminal\n",
    "kubectl exec -n vault vault-0 -i -t -- /bin/sh\n",
    "---\n",
    "vault login <root_token>\n",
    "vault auth enable kubernetes\n",
    "\n",
    "vault write auth/kubernetes/config \\\n",
    "    kubernetes_host=https://$KUBERNETES_SERVICE_HOST:$KUBERNETES_SERVICE_PORT"
   ]
  },
  {
   "cell_type": "code",
   "execution_count": 7,
   "metadata": {},
   "outputs": [
    {
     "name": "stdout",
     "output_type": "stream",
     "text": [
      "hvs.YngUaWsrp3hk4YtNMcJSz35I\n"
     ]
    }
   ],
   "source": [
    "%%bash\n",
    "cat ${WORKDIR}/cluster-keys.json | jq -r \".root_token\""
   ]
  },
  {
   "cell_type": "code",
   "execution_count": 8,
   "metadata": {},
   "outputs": [
    {
     "name": "stdout",
     "output_type": "stream",
     "text": [
      "env: VAULT_ADDR=https://127.0.0.1:8200\n",
      "env: VAULT_TOKEN=hvs.YngUaWsrp3hk4YtNMcJSz35I\n",
      "env: VAULT_CACERT=/tmp/vault/vault.ca\n"
     ]
    }
   ],
   "source": [
    "%env VAULT_ADDR=https://127.0.0.1:8200\n",
    "%env VAULT_TOKEN=hvs.YngUaWsrp3hk4YtNMcJSz35I\n",
    "%env VAULT_CACERT=/tmp/vault/vault.ca"
   ]
  },
  {
   "cell_type": "code",
   "execution_count": 9,
   "metadata": {},
   "outputs": [
    {
     "name": "stdout",
     "output_type": "stream",
     "text": [
      "Success! Data written to: auth/kubernetes/role/role1\n"
     ]
    }
   ],
   "source": [
    "%%bash\n",
    "# Role associated to default service account in the app namespace\n",
    "vault write auth/kubernetes/role/role1 \\\n",
    "    bound_service_account_names=default \\\n",
    "    bound_service_account_namespaces=vault \\\n",
    "    policies=dev \\\n",
    "    ttl=24h\n"
   ]
  },
  {
   "cell_type": "code",
   "execution_count": 10,
   "metadata": {},
   "outputs": [
    {
     "name": "stdout",
     "output_type": "stream",
     "text": [
      "Success! Data written to: auth/kubernetes/role/role2\n"
     ]
    }
   ],
   "source": [
    "%%bash\n",
    "# Role associated to default service account in the app namespace\n",
    "vault write auth/kubernetes/role/role2 \\\n",
    "    bound_service_account_names=default \\\n",
    "    bound_service_account_namespaces=default \\\n",
    "    policies=dev \\\n",
    "    ttl=24h"
   ]
  },
  {
   "cell_type": "code",
   "execution_count": 11,
   "metadata": {},
   "outputs": [
    {
     "name": "stdout",
     "output_type": "stream",
     "text": [
      "Success! Uploaded policy: dev\n"
     ]
    }
   ],
   "source": [
    "%%bash\n",
    "vault policy write dev - <<EOF\n",
    "path \"kvv2/*\" {\n",
    "  capabilities = [\"read\"]\n",
    "}\n",
    "EOF\n"
   ]
  },
  {
   "cell_type": "code",
   "execution_count": 12,
   "metadata": {},
   "outputs": [
    {
     "name": "stdout",
     "output_type": "stream",
     "text": [
      "Success! Enabled the kv-v2 secrets engine at: kvv2/\n"
     ]
    }
   ],
   "source": [
    "%%bash\n",
    "vault secrets enable -path=kvv2 kv-v2"
   ]
  },
  {
   "cell_type": "code",
   "execution_count": 13,
   "metadata": {},
   "outputs": [
    {
     "name": "stdout",
     "output_type": "stream",
     "text": [
      "===== Secret Path =====\n",
      "kvv2/data/webapp/config\n",
      "\n",
      "======= Metadata =======\n",
      "Key                Value\n",
      "---                -----\n",
      "created_time       2023-05-22T15:52:23.547810964Z\n",
      "custom_metadata    <nil>\n",
      "deletion_time      n/a\n",
      "destroyed          false\n",
      "version            1\n"
     ]
    }
   ],
   "source": [
    "%%bash\n",
    "vault kv put kvv2/webapp/config username=\"static-user\" password=\"static-password\""
   ]
  },
  {
   "cell_type": "code",
   "execution_count": 15,
   "metadata": {},
   "outputs": [
    {
     "name": "stdout",
     "output_type": "stream",
     "text": [
      "NAME                            \tCHART VERSION\tAPP VERSION\tDESCRIPTION                          \n",
      "hashicorp/vault-secrets-operator\t0.1.0-beta   \t0.1.0-beta \tOfficial Vault Secrets Operator Chart\n",
      "NAME: vault-secrets-operator\n",
      "LAST DEPLOYED: Mon May 22 17:53:13 2023\n",
      "NAMESPACE: vault\n",
      "STATUS: deployed\n",
      "REVISION: 1\n"
     ]
    }
   ],
   "source": [
    "%%bash\n",
    "# Install Operator\n",
    "helm search repo hashicorp/vault-secrets-operator --devel\n",
    "helm install --namespace $VAULT_K8S_NAMESPACE vault-secrets-operator hashicorp/vault-secrets-operator --version 0.1.0-beta\n",
    "kubectl get pods -n vault --watch\n"
   ]
  },
  {
   "cell_type": "code",
   "execution_count": 16,
   "metadata": {},
   "outputs": [
    {
     "name": "stdout",
     "output_type": "stream",
     "text": [
      "vaultconnection.secrets.hashicorp.com/example created\n"
     ]
    }
   ],
   "source": [
    "%%bash\n",
    "## VaultConnection Custom Resource\n",
    "cat > vso_crd.yaml <<EOF\n",
    "---\n",
    "apiVersion: secrets.hashicorp.com/v1alpha1\n",
    "kind: VaultConnection\n",
    "metadata:\n",
    "  namespace: vault\n",
    "  name: example\n",
    "spec:\n",
    "  # required configuration\n",
    "  # address to the Vault server.\n",
    "  address: https://vault.vault.svc.cluster.local:8200\n",
    "\n",
    "  # optional configuration\n",
    "  # HTTP headers to be included in all Vault requests.\n",
    "  # headers: []\n",
    "  # TLS server name to use as the SNI host for TLS connections.\n",
    "  # tlsServerName: \"\"\n",
    "  # skip TLS verification for TLS connections to Vault.\n",
    "  skipTLSVerify: true\n",
    "  # the trusted PEM encoded CA certificate chain stored in a Kubernetes Secret\n",
    "  # caCertSecretRef: \"\"\n",
    "\n",
    "EOF\n",
    "kubectl apply -f vso_crd.yaml\n"
   ]
  },
  {
   "cell_type": "code",
   "execution_count": 17,
   "metadata": {},
   "outputs": [
    {
     "name": "stdout",
     "output_type": "stream",
     "text": [
      "vaultconnection.secrets.hashicorp.com/example created\n"
     ]
    }
   ],
   "source": [
    "%%bash\n",
    "## VaultConnection Custom Resource\n",
    "cat > vso_crd_2.yaml <<EOF\n",
    "---\n",
    "apiVersion: secrets.hashicorp.com/v1alpha1\n",
    "kind: VaultConnection\n",
    "metadata:\n",
    "  namespace: default\n",
    "  name: example\n",
    "spec:\n",
    "  # required configuration\n",
    "  # address to the Vault server.\n",
    "  address: https://vault.vault.svc.cluster.local:8200\n",
    "\n",
    "  # optional configuration\n",
    "  # HTTP headers to be included in all Vault requests.\n",
    "  # headers: []\n",
    "  # TLS server name to use as the SNI host for TLS connections.\n",
    "  # tlsServerName: \"\"\n",
    "  # skip TLS verification for TLS connections to Vault.\n",
    "  skipTLSVerify: true\n",
    "  # the trusted PEM encoded CA certificate chain stored in a Kubernetes Secret\n",
    "  # caCertSecretRef: \"\"\n",
    "\n",
    "EOF\n",
    "kubectl apply -f vso_crd_2.yaml"
   ]
  },
  {
   "cell_type": "code",
   "execution_count": 18,
   "metadata": {},
   "outputs": [
    {
     "name": "stderr",
     "output_type": "stream",
     "text": [
      "bash: line 1: default: command not found\n"
     ]
    },
    {
     "name": "stdout",
     "output_type": "stream",
     "text": [
      "vaultauth.secrets.hashicorp.com/example created\n"
     ]
    }
   ],
   "source": [
    "%%bash\n",
    "cat > vaultauth_crd.yaml <<EOF\n",
    "---\n",
    "apiVersion: secrets.hashicorp.com/v1alpha1\n",
    "kind: VaultAuth\n",
    "metadata:\n",
    "  namespace: vault\n",
    "  name: example\n",
    "spec:\n",
    "  # required configuration\n",
    "  # VaultConnectionRef of the corresponding VaultConnection CustomResource.\n",
    "  # If no value is specified the Operator will default to the `default` VaultConnection,\n",
    "  # configured in its own Kubernetes namespace.\n",
    "  vaultConnectionRef: example\n",
    "  # Method to use when authenticating to Vault.\n",
    "  method: kubernetes\n",
    "  # Mount to use when authenticating to auth method.\n",
    "  mount: kubernetes\n",
    "  # Kubernetes specific auth configuration, requires that the Method be set to kubernetes.\n",
    "  kubernetes:\n",
    "    # role to use when authenticating to Vault\n",
    "    role: role1\n",
    "    # ServiceAccount to use when authenticating to Vault\n",
    "    # it is recommended to always provide a unique serviceAccount per Pod/application\n",
    "    serviceAccount: default\n",
    "\n",
    "  # optional configuration\n",
    "  # Vault namespace where the auth backend is mounted (requires Vault Enterprise)\n",
    "  # namespace: \"\"\n",
    "  # Params to use when authenticating to Vault\n",
    "  # params: []\n",
    "  # HTTP headers to be included in all Vault authentication requests.\n",
    "  # headers: []\n",
    "EOF\n",
    "kubectl apply -f vaultauth_crd.yaml"
   ]
  },
  {
   "cell_type": "code",
   "execution_count": null,
   "metadata": {},
   "outputs": [],
   "source": []
  },
  {
   "cell_type": "code",
   "execution_count": 19,
   "metadata": {},
   "outputs": [
    {
     "name": "stderr",
     "output_type": "stream",
     "text": [
      "bash: line 1: default: command not found\n"
     ]
    },
    {
     "name": "stdout",
     "output_type": "stream",
     "text": [
      "vaultauth.secrets.hashicorp.com/example2 created\n"
     ]
    }
   ],
   "source": [
    "%%bash\n",
    "cat > vaultauth_crd2.yaml <<EOF\n",
    "---\n",
    "apiVersion: secrets.hashicorp.com/v1alpha1\n",
    "kind: VaultAuth\n",
    "metadata:\n",
    "  namespace: default\n",
    "  name: example2\n",
    "spec:\n",
    "  # required configuration\n",
    "  # VaultConnectionRef of the corresponding VaultConnection CustomResource.\n",
    "  # If no value is specified the Operator will default to the `default` VaultConnection,\n",
    "  # configured in its own Kubernetes namespace.\n",
    "  vaultConnectionRef: example\n",
    "  # Method to use when authenticating to Vault.\n",
    "  method: kubernetes\n",
    "  # Mount to use when authenticating to auth method.\n",
    "  mount: kubernetes\n",
    "  # Kubernetes specific auth configuration, requires that the Method be set to kubernetes.\n",
    "  kubernetes:\n",
    "    # role to use when authenticating to Vault\n",
    "    role: role2\n",
    "    # ServiceAccount to use when authenticating to Vault\n",
    "    # it is recommended to always provide a unique serviceAccount per Pod/application\n",
    "    serviceAccount: default\n",
    "\n",
    "  # optional configuration\n",
    "  # Vault namespace where the auth backend is mounted (requires Vault Enterprise)\n",
    "  # namespace: \"\"\n",
    "  # Params to use when authenticating to Vault\n",
    "  # params: []\n",
    "  # HTTP headers to be included in all Vault authentication requests.\n",
    "  # headers: []\n",
    "EOF\n",
    "kubectl apply -f vaultauth_crd2.yaml\n",
    "\n",
    "\n",
    "# VaultConnection <-- VaultAuth <-- VaultStaticSecret/VaultPKISecret/VaultDynamicSecret "
   ]
  },
  {
   "cell_type": "markdown",
   "metadata": {},
   "source": [
    "## CRD Static Secret"
   ]
  },
  {
   "cell_type": "code",
   "execution_count": 20,
   "metadata": {},
   "outputs": [
    {
     "name": "stdout",
     "output_type": "stream",
     "text": [
      "vaultstaticsecret.secrets.hashicorp.com/example created\n"
     ]
    }
   ],
   "source": [
    "%%bash\n",
    "## Support KVv1 and KVv2\n",
    "cat > static_secret.yaml <<EOF\n",
    "---\n",
    "apiVersion: secrets.hashicorp.com/v1alpha1\n",
    "kind: VaultStaticSecret\n",
    "metadata:\n",
    "  namespace: vault\n",
    "  name: example\n",
    "spec:\n",
    "  vaultAuthRef: example\n",
    "  mount: kvv2\n",
    "  type: kv-v2\n",
    "  name: webapp/config\n",
    "  refreshAfter: 60s\n",
    "  destination:\n",
    "    create: true\n",
    "    name: static-secret1\n",
    "EOF\n",
    "kubectl apply -f static_secret.yaml\n"
   ]
  },
  {
   "cell_type": "code",
   "execution_count": 21,
   "metadata": {},
   "outputs": [
    {
     "name": "stdout",
     "output_type": "stream",
     "text": [
      "vaultstaticsecret.secrets.hashicorp.com/example created\n"
     ]
    }
   ],
   "source": [
    "%%bash\n",
    "## Support KVv1 and KVv2\n",
    "cat > static_secret.yaml <<EOF\n",
    "---\n",
    "apiVersion: secrets.hashicorp.com/v1alpha1\n",
    "kind: VaultStaticSecret\n",
    "metadata:\n",
    "  namespace: default\n",
    "  name: example\n",
    "spec:\n",
    "  vaultAuthRef: example2\n",
    "  mount: kvv2\n",
    "  type: kv-v2\n",
    "  name: webapp/config\n",
    "  refreshAfter: 60s\n",
    "  destination:\n",
    "    create: true\n",
    "    name: static-secret1\n",
    "EOF\n",
    "kubectl apply -f static_secret.yaml"
   ]
  },
  {
   "cell_type": "code",
   "execution_count": 22,
   "metadata": {},
   "outputs": [
    {
     "name": "stdout",
     "output_type": "stream",
     "text": [
      "NAME                                           TYPE                 DATA   AGE\n",
      "sh.helm.release.v1.vault-secrets-operator.v1   helm.sh/release.v1   1      60s\n",
      "sh.helm.release.v1.vault.v1                    helm.sh/release.v1   1      5m14s\n",
      "sh.helm.release.v1.vault.v2                    helm.sh/release.v1   1      3m6s\n",
      "static-secret1                                 Opaque               3      6s\n",
      "vault-ent-license                              Opaque               1      5m24s\n",
      "vault-ha-tls                                   Opaque               3      5m38s\n",
      "vso-cc-storage-hmac-key                        Opaque               1      48s\n"
     ]
    }
   ],
   "source": [
    "%%bash\n",
    "kubectl get secrets -n vault"
   ]
  },
  {
   "cell_type": "code",
   "execution_count": 23,
   "metadata": {},
   "outputs": [
    {
     "name": "stdout",
     "output_type": "stream",
     "text": [
      "apiVersion: v1\n",
      "data:\n",
      "  _raw: eyJkYXRhIjp7InBhc3N3b3JkIjoic3RhdGljLXBhc3N3b3JkIiwidXNlcm5hbWUiOiJzdGF0aWMtdXNlciJ9LCJtZXRhZGF0YSI6eyJjcmVhdGVkX3RpbWUiOiIyMDIzLTA1LTIyVDE1OjUyOjIzLjU0NzgxMDk2NFoiLCJjdXN0b21fbWV0YWRhdGEiOm51bGwsImRlbGV0aW9uX3RpbWUiOiIwMDAxLTAxLTAxVDAwOjAwOjAwWiIsImRlc3Ryb3llZCI6ZmFsc2UsInZlcnNpb24iOjF9fQ==\n",
      "  password: c3RhdGljLXBhc3N3b3Jk\n",
      "  username: c3RhdGljLXVzZXI=\n",
      "kind: Secret\n",
      "metadata:\n",
      "  creationTimestamp: \"2023-05-22T15:54:07Z\"\n",
      "  labels:\n",
      "    app.kubernetes.io/component: secret-sync\n",
      "    app.kubernetes.io/managed-by: hashicorp-vso\n",
      "    app.kubernetes.io/name: vault-secrets-operator\n",
      "  name: static-secret1\n",
      "  namespace: vault\n",
      "  ownerReferences:\n",
      "  - apiVersion: secrets.hashicorp.com/v1alpha1\n",
      "    kind: VaultStaticSecret\n",
      "    name: example\n",
      "    uid: 8a347963-3aaa-4ced-9f7b-37e2161a2e24\n",
      "  resourceVersion: \"980\"\n",
      "  uid: 7c17d186-a279-48ef-87c8-e11268749f40\n",
      "type: Opaque\n"
     ]
    }
   ],
   "source": [
    "%%bash\n",
    "kubectl get secret static-secret1 -n vault -o yaml"
   ]
  },
  {
   "cell_type": "code",
   "execution_count": 24,
   "metadata": {},
   "outputs": [
    {
     "name": "stdout",
     "output_type": "stream",
     "text": [
      "pod/mypod created\n"
     ]
    }
   ],
   "source": [
    "%%bash\n",
    "cat > mypod.yaml <<EOF\n",
    "apiVersion: v1\n",
    "kind: Pod\n",
    "metadata:\n",
    "  name: mypod\n",
    "  namespace: vault\n",
    "spec:\n",
    "  containers:\n",
    "  - name: mypod\n",
    "    image: redis\n",
    "    volumeMounts:\n",
    "    - name: foo\n",
    "      mountPath: \"/etc/foo\"\n",
    "      readOnly: true\n",
    "  volumes:\n",
    "  - name: foo\n",
    "    secret:\n",
    "      secretName: static-secret1\n",
    "      optional: true\n",
    "EOF\n",
    "kubectl apply -f mypod.yaml\n",
    "\n",
    "# https://developer.hashicorp.com/vault/tutorials/kubernetes/vault-secrets-operator"
   ]
  },
  {
   "cell_type": "code",
   "execution_count": 25,
   "metadata": {},
   "outputs": [
    {
     "name": "stdout",
     "output_type": "stream",
     "text": [
      "static-user\n",
      "------\n",
      "static-password"
     ]
    }
   ],
   "source": [
    "%%bash \n",
    "sleep 10 \n",
    "kubectl exec mypod -n vault -- cat /etc/foo/username\n",
    "echo \"\"\n",
    "echo \"------\"\n",
    "kubectl exec mypod -n vault -- cat /etc/foo/password"
   ]
  },
  {
   "cell_type": "code",
   "execution_count": 28,
   "metadata": {},
   "outputs": [
    {
     "name": "stdout",
     "output_type": "stream",
     "text": [
      "pod/mypod2 created\n"
     ]
    }
   ],
   "source": [
    "%%bash\n",
    "cat > mypod2.yaml <<EOF\n",
    "apiVersion: v1\n",
    "kind: Pod\n",
    "metadata:\n",
    "  name: mypod2\n",
    "  namespace: vault\n",
    "  # Using a different service account\n",
    "spec:\n",
    "  serviceAccountName: vault\n",
    "  containers:\n",
    "  - name: mypod\n",
    "    image: redis\n",
    "    volumeMounts:\n",
    "    - name: foo\n",
    "      mountPath: \"/etc/foo\"\n",
    "      readOnly: true\n",
    "  volumes:\n",
    "  - name: foo\n",
    "    secret:\n",
    "      secretName: static-secret1\n",
    "      optional: true\n",
    "EOF\n",
    "kubectl apply -f mypod2.yaml"
   ]
  },
  {
   "cell_type": "code",
   "execution_count": 30,
   "metadata": {},
   "outputs": [
    {
     "name": "stdout",
     "output_type": "stream",
     "text": [
      "static-user\n",
      "------\n",
      "static-password"
     ]
    }
   ],
   "source": [
    "%%bash \n",
    "sleep 10 \n",
    "kubectl exec mypod2 -n vault -- cat /etc/foo/username\n",
    "echo \"\"\n",
    "echo \"------\"\n",
    "kubectl exec mypod2 -n vault -- cat /etc/foo/password"
   ]
  },
  {
   "cell_type": "code",
   "execution_count": 24,
   "metadata": {},
   "outputs": [
    {
     "name": "stdout",
     "output_type": "stream",
     "text": [
      "vaultconnection.secrets.hashicorp.com \"vault-conn\" deleted\n",
      "vaultstaticsecret.secrets.hashicorp.com \"example\" deleted\n",
      "vaultauth.secrets.hashicorp.com \"vault-auth-prueba\" deleted\n",
      "namespace \"prueba\" deleted\n",
      "namespace/prueba created\n",
      "vaultconnection.secrets.hashicorp.com/vault-conn created\n"
     ]
    },
    {
     "name": "stderr",
     "output_type": "stream",
     "text": [
      "bash: line 34: default: command not found\n"
     ]
    },
    {
     "name": "stdout",
     "output_type": "stream",
     "text": [
      "vaultauth.secrets.hashicorp.com/vault-auth-prueba created\n",
      "vaultstaticsecret.secrets.hashicorp.com/example created\n"
     ]
    }
   ],
   "source": [
    "%%bash \n",
    "### For namespace prueba\n",
    "\n",
    "\n",
    "kubectl delete VaultConnection vault-conn -n prueba\n",
    "kubectl delete VaultStaticSecret example -n prueba\n",
    "kubectl delete VaultAuth vault-auth-prueba -n prueba\n",
    "kubectl delete ns prueba\n",
    "\n",
    "kubectl create ns prueba\n",
    "\n",
    "cat <<EOF | kubectl create -f -\n",
    "---\n",
    "apiVersion: secrets.hashicorp.com/v1alpha1\n",
    "kind: VaultConnection\n",
    "metadata:\n",
    "  namespace: prueba\n",
    "  name: vault-conn\n",
    "spec:\n",
    "  # required configuration\n",
    "  # address to the Vault server.\n",
    "  address: https://vault.vault.svc.cluster.local:8200\n",
    "\n",
    "  # optional configuration\n",
    "  # HTTP headers to be included in all Vault requests.\n",
    "  # headers: []\n",
    "  # TLS server name to use as the SNI host for TLS connections.\n",
    "  # tlsServerName: \"\"\n",
    "  # skip TLS verification for TLS connections to Vault.\n",
    "  skipTLSVerify: true\n",
    "  # the trusted PEM encoded CA certificate chain stored in a Kubernetes Secret\n",
    "  # caCertSecretRef: \"\"\n",
    "EOF\n",
    "\n",
    "cat  <<EOF | kubectl create -f -\n",
    "---\n",
    "apiVersion: secrets.hashicorp.com/v1alpha1\n",
    "kind: VaultAuth\n",
    "metadata:\n",
    "  namespace: prueba\n",
    "  name: vault-auth-prueba\n",
    "spec:\n",
    "  # required configuration\n",
    "  # VaultConnectionRef of the corresponding VaultConnection CustomResource.\n",
    "  # If no value is specified the Operator will default to the `default` VaultConnection,\n",
    "  # configured in its own Kubernetes namespace.\n",
    "  vaultConnectionRef: vault-conn\n",
    "  # Method to use when authenticating to Vault.\n",
    "  method: kubernetes\n",
    "  # Mount to use when authenticating to auth method.\n",
    "  mount: kubernetes\n",
    "  # Kubernetes specific auth configuration, requires that the Method be set to kubernetes.\n",
    "  kubernetes:\n",
    "    # role to use when authenticating to Vault\n",
    "    role: role3\n",
    "    # ServiceAccount to use when authenticating to Vault\n",
    "    # it is recommended to always provide a unique serviceAccount per Pod/application\n",
    "    serviceAccount: default\n",
    "\n",
    "  # optional configuration\n",
    "  # Vault namespace where the auth backend is mounted (requires Vault Enterprise)\n",
    "  # namespace: \"\"\n",
    "  # Params to use when authenticating to Vault\n",
    "  # params: []\n",
    "  # HTTP headers to be included in all Vault authentication requests.\n",
    "  # headers: []\n",
    "EOF\n",
    "\n",
    "cat  <<EOF | kubectl create -f -\n",
    "---\n",
    "apiVersion: secrets.hashicorp.com/v1alpha1\n",
    "kind: VaultStaticSecret\n",
    "metadata:\n",
    "  namespace: prueba\n",
    "  name: example\n",
    "spec:\n",
    "  vaultAuthRef: vault-auth-prueba\n",
    "  mount: kvv2\n",
    "  type: kv-v2\n",
    "  name: webapp/config\n",
    "  refreshAfter: 60s\n",
    "  destination:\n",
    "    create: true\n",
    "    name: static-secret1\n",
    "EOF\n"
   ]
  },
  {
   "cell_type": "code",
   "execution_count": 22,
   "metadata": {},
   "outputs": [
    {
     "name": "stdout",
     "output_type": "stream",
     "text": [
      "Success! Data written to: auth/kubernetes/role/role3\n"
     ]
    }
   ],
   "source": [
    "%%bash\n",
    "# Role associated to default service account in the app namespace\n",
    "vault write auth/kubernetes/role/role3 \\\n",
    "    bound_service_account_names=default \\\n",
    "    bound_service_account_namespaces=prueba \\\n",
    "    policies=dev \\\n",
    "    ttl=24h"
   ]
  },
  {
   "cell_type": "code",
   "execution_count": 27,
   "metadata": {},
   "outputs": [
    {
     "name": "stdout",
     "output_type": "stream",
     "text": [
      "== Secret Path ==\n",
      "kvv2/data/webapp\n",
      "\n",
      "======= Metadata =======\n",
      "Key                Value\n",
      "---                -----\n",
      "created_time       2023-04-20T16:49:44.244149459Z\n",
      "custom_metadata    <nil>\n",
      "deletion_time      n/a\n",
      "destroyed          false\n",
      "version            1\n"
     ]
    }
   ],
   "source": [
    "%%bash\n",
    "vault kv put kvv2/webapp user=\"user\" pass=\"password\""
   ]
  },
  {
   "cell_type": "code",
   "execution_count": 26,
   "metadata": {},
   "outputs": [
    {
     "name": "stdout",
     "output_type": "stream",
     "text": [
      "Success! Data written to: auth/kubernetes/role/role4\n",
      "vaultconnection.secrets.hashicorp.com \"vault-conn\" deleted\n"
     ]
    },
    {
     "name": "stderr",
     "output_type": "stream",
     "text": [
      "Error from server (NotFound): vaultstaticsecrets.secrets.hashicorp.com \"example\" not found\n"
     ]
    },
    {
     "name": "stdout",
     "output_type": "stream",
     "text": [
      "vaultauth.secrets.hashicorp.com \"vault-auth-prueba\" deleted\n",
      "serviceaccount \"vault-sa\" deleted\n",
      "namespace \"test\" deleted\n",
      "namespace/test created\n",
      "serviceaccount/vault-sa created\n",
      "vaultconnection.secrets.hashicorp.com/vault-conn created\n"
     ]
    },
    {
     "name": "stderr",
     "output_type": "stream",
     "text": [
      "bash: line 41: default: command not found\n"
     ]
    },
    {
     "name": "stdout",
     "output_type": "stream",
     "text": [
      "vaultauth.secrets.hashicorp.com/vault-auth-prueba created\n",
      "vaultstaticsecret.secrets.hashicorp.com/vault-secret-app100 created\n"
     ]
    }
   ],
   "source": [
    "%%bash\n",
    "# Role associated to default service account in the app namespace\n",
    "vault write auth/kubernetes/role/role4 \\\n",
    "    bound_service_account_names=vault-sa \\\n",
    "    bound_service_account_namespaces=test \\\n",
    "    policies=dev \\\n",
    "    ttl=24h\n",
    "\n",
    "### For namespace test\n",
    "kubectl delete VaultConnection vault-conn -n test\n",
    "kubectl delete VaultStaticSecret example -n test\n",
    "kubectl delete VaultAuth vault-auth-prueba -n test\n",
    "kubectl delete sa vault-sa -n test\n",
    "kubectl delete ns test\n",
    "\n",
    "kubectl create ns test\n",
    "kubectl create sa vault-sa -n test\n",
    "\n",
    "cat <<EOF | kubectl create -f -\n",
    "---\n",
    "apiVersion: secrets.hashicorp.com/v1alpha1\n",
    "kind: VaultConnection\n",
    "metadata:\n",
    "  namespace: test\n",
    "  name: vault-conn\n",
    "spec:\n",
    "  # required configuration\n",
    "  # address to the Vault server.\n",
    "  address: https://vault.vault.svc.cluster.local:8200\n",
    "\n",
    "  # optional configuration\n",
    "  # HTTP headers to be included in all Vault requests.\n",
    "  # headers: []\n",
    "  # TLS server name to use as the SNI host for TLS connections.\n",
    "  # tlsServerName: \"\"\n",
    "  # skip TLS verification for TLS connections to Vault.\n",
    "  skipTLSVerify: true\n",
    "  # the trusted PEM encoded CA certificate chain stored in a Kubernetes Secret\n",
    "  # caCertSecretRef: \"\"\n",
    "EOF\n",
    "\n",
    "cat  <<EOF | kubectl create -f -\n",
    "---\n",
    "apiVersion: secrets.hashicorp.com/v1alpha1\n",
    "kind: VaultAuth\n",
    "metadata:\n",
    "  namespace: test\n",
    "  name: vault-auth-prueba\n",
    "spec:\n",
    "  # required configuration\n",
    "  # VaultConnectionRef of the corresponding VaultConnection CustomResource.\n",
    "  # If no value is specified the Operator will default to the `default` VaultConnection,\n",
    "  # configured in its own Kubernetes namespace.\n",
    "  vaultConnectionRef: vault-conn\n",
    "  # Method to use when authenticating to Vault.\n",
    "  method: kubernetes\n",
    "  # Mount to use when authenticating to auth method.\n",
    "  mount: kubernetes\n",
    "  # Kubernetes specific auth configuration, requires that the Method be set to kubernetes.\n",
    "  kubernetes:\n",
    "    # role to use when authenticating to Vault\n",
    "    role: role4\n",
    "    # ServiceAccount to use when authenticating to Vault\n",
    "    # it is recommended to always provide a unique serviceAccount per Pod/application\n",
    "    serviceAccount: vault-sa\n",
    "\n",
    "  # optional configuration\n",
    "  # Vault namespace where the auth backend is mounted (requires Vault Enterprise)\n",
    "  # namespace: \"\"\n",
    "  # Params to use when authenticating to Vault\n",
    "  # params: []\n",
    "  # HTTP headers to be included in all Vault authentication requests.\n",
    "  # headers: []\n",
    "EOF\n",
    "\n",
    "cat  <<EOF | kubectl create -f -\n",
    "---\n",
    "apiVersion: secrets.hashicorp.com/v1alpha1\n",
    "kind: VaultStaticSecret\n",
    "metadata:\n",
    "  namespace: test\n",
    "  name: vault-secret-app100\n",
    "spec:\n",
    "  vaultAuthRef: vault-auth-prueba\n",
    "  mount: kvv2\n",
    "  type: kv-v2\n",
    "  name: webapp/config\n",
    "  refreshAfter: 60s\n",
    "  destination:\n",
    "    create: true\n",
    "    name: k8s-secret-app100\n",
    "EOF\n",
    " "
   ]
  },
  {
   "cell_type": "code",
   "execution_count": 28,
   "metadata": {},
   "outputs": [
    {
     "name": "stdout",
     "output_type": "stream",
     "text": [
      "vaultstaticsecret.secrets.hashicorp.com/vault-secret-app200 created\n"
     ]
    }
   ],
   "source": [
    "%%bash\n",
    "cat  <<EOF | kubectl create -f -\n",
    "---\n",
    "apiVersion: secrets.hashicorp.com/v1alpha1\n",
    "kind: VaultStaticSecret\n",
    "metadata:\n",
    "  namespace: test\n",
    "  name: vault-secret-app200\n",
    "spec:\n",
    "  vaultAuthRef: vault-auth-prueba\n",
    "  mount: kvv2\n",
    "  type: kv-v2\n",
    "  name: webapp\n",
    "  refreshAfter: 60s\n",
    "  destination:\n",
    "    create: true\n",
    "    name: k8s-secret-app200\n",
    "EOF"
   ]
  },
  {
   "cell_type": "code",
   "execution_count": 29,
   "metadata": {},
   "outputs": [
    {
     "name": "stdout",
     "output_type": "stream",
     "text": [
      "pod/mypod2 created\n"
     ]
    }
   ],
   "source": [
    "%%bash\n",
    "cat > mypod2_test.yaml <<EOF\n",
    "apiVersion: v1\n",
    "kind: Pod\n",
    "metadata:\n",
    "  name: mypod2\n",
    "  namespace: test\n",
    "  # Using a different service account\n",
    "spec:\n",
    "  containers:\n",
    "  - name: mypod\n",
    "    image: redis\n",
    "    volumeMounts:\n",
    "    - name: foo\n",
    "      mountPath: \"/etc/foo\"\n",
    "      readOnly: true\n",
    "  volumes:\n",
    "  - name: foo\n",
    "    secret:\n",
    "      secretName: k8s-secret-app200\n",
    "      optional: true\n",
    "EOF\n",
    "kubectl apply -f mypod2_test.yaml"
   ]
  },
  {
   "cell_type": "code",
   "execution_count": 30,
   "metadata": {},
   "outputs": [
    {
     "name": "stdout",
     "output_type": "stream",
     "text": [
      "Success! Data written to: auth/kubernetes/role/role5\n"
     ]
    },
    {
     "name": "stderr",
     "output_type": "stream",
     "text": [
      "Error from server (NotFound): vaultstaticsecrets.secrets.hashicorp.com \"vault-secret-app300\" not found\n",
      "Error from server (NotFound): vaultauths.secrets.hashicorp.com \"vault-auth-prueba2\" not found\n",
      "bash: line 14: default: command not found\n"
     ]
    },
    {
     "name": "stdout",
     "output_type": "stream",
     "text": [
      "vaultauth.secrets.hashicorp.com/vault-auth-prueba2 created\n",
      "vaultstaticsecret.secrets.hashicorp.com/vault-secret-app300 created\n"
     ]
    }
   ],
   "source": [
    "%%bash\n",
    "# Role associated to default service account in the app namespace\n",
    "vault write auth/kubernetes/role/role5 \\\n",
    "    bound_service_account_names=vault-sa \\\n",
    "    bound_service_account_namespaces=test \\\n",
    "    policies=dev \\\n",
    "    ttl=1h\n",
    "\n",
    "### For namespace test\n",
    "kubectl delete VaultStaticSecret vault-secret-app300 -n test\n",
    "kubectl delete VaultAuth vault-auth-prueba2 -n test\n",
    "\n",
    "\n",
    "\n",
    "cat  <<EOF | kubectl create -f -\n",
    "---\n",
    "apiVersion: secrets.hashicorp.com/v1alpha1\n",
    "kind: VaultAuth\n",
    "metadata:\n",
    "  namespace: test\n",
    "  name: vault-auth-prueba2\n",
    "spec:\n",
    "  # required configuration\n",
    "  # VaultConnectionRef of the corresponding VaultConnection CustomResource.\n",
    "  # If no value is specified the Operator will default to the `default` VaultConnection,\n",
    "  # configured in its own Kubernetes namespace.\n",
    "  vaultConnectionRef: vault-conn\n",
    "  # Method to use when authenticating to Vault.\n",
    "  method: kubernetes\n",
    "  # Mount to use when authenticating to auth method.\n",
    "  mount: kubernetes\n",
    "  # Kubernetes specific auth configuration, requires that the Method be set to kubernetes.\n",
    "  kubernetes:\n",
    "    # role to use when authenticating to Vault\n",
    "    role: role5\n",
    "    # ServiceAccount to use when authenticating to Vault\n",
    "    # it is recommended to always provide a unique serviceAccount per Pod/application\n",
    "    serviceAccount: vault-sa\n",
    "\n",
    "  # optional configuration\n",
    "  # Vault namespace where the auth backend is mounted (requires Vault Enterprise)\n",
    "  # namespace: \"\"\n",
    "  # Params to use when authenticating to Vault\n",
    "  # params: []\n",
    "  # HTTP headers to be included in all Vault authentication requests.\n",
    "  # headers: []\n",
    "EOF\n",
    "\n",
    "cat  <<EOF | kubectl create -f -\n",
    "---\n",
    "apiVersion: secrets.hashicorp.com/v1alpha1\n",
    "kind: VaultStaticSecret\n",
    "metadata:\n",
    "  namespace: test\n",
    "  name: vault-secret-app300\n",
    "spec:\n",
    "  vaultAuthRef: vault-auth-prueba\n",
    "  mount: kvv2\n",
    "  type: kv-v2\n",
    "  name: webapp/config\n",
    "  refreshAfter: 600s\n",
    "  destination:\n",
    "    create: true\n",
    "    name: k8s-secret-app300\n",
    "EOF\n",
    " "
   ]
  }
 ],
 "metadata": {
  "kernelspec": {
   "display_name": "Python 3",
   "language": "python",
   "name": "python3"
  },
  "language_info": {
   "codemirror_mode": {
    "name": "ipython",
    "version": 3
   },
   "file_extension": ".py",
   "mimetype": "text/x-python",
   "name": "python",
   "nbconvert_exporter": "python",
   "pygments_lexer": "ipython3",
   "version": "3.9.6"
  },
  "orig_nbformat": 4,
  "vscode": {
   "interpreter": {
    "hash": "31f2aee4e71d21fbe5cf8b01ff0e069b9275f58929596ceb00d14d90e3e16cd6"
   }
  }
 },
 "nbformat": 4,
 "nbformat_minor": 2
}
