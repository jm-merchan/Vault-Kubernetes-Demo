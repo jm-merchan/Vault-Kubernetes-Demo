{
 "cells": [
  {
   "attachments": {},
   "cell_type": "markdown",
   "metadata": {},
   "source": [
    "### Based on https://developer.hashicorp.com/vault/tutorials/kubernetes/kubernetes-minikube-tls"
   ]
  },
  {
   "cell_type": "code",
   "execution_count": 24,
   "metadata": {},
   "outputs": [
    {
     "name": "stdout",
     "output_type": "stream",
     "text": [
      "* Eliminando \"dc1\" en docker...\n",
      "* Eliminando contenedor \"dc1\" ...\n"
     ]
    },
    {
     "name": "stderr",
     "output_type": "stream",
     "text": [
      "error: lost connection to pod\n"
     ]
    },
    {
     "name": "stdout",
     "output_type": "stream",
     "text": [
      "* Eliminando /Users/jose/.minikube/machines/dc1...\n",
      "* Removed all traces of the \"dc1\" cluster.\n"
     ]
    }
   ],
   "source": [
    "%%bash\n",
    "minikube delete -p dc1"
   ]
  },
  {
   "cell_type": "code",
   "execution_count": 2,
   "metadata": {},
   "outputs": [
    {
     "name": "stdout",
     "output_type": "stream",
     "text": [
      "* [dc1] minikube v1.30.1 en Darwin 13.3.1 (arm64)\n",
      "* Controlador docker seleccionado automáticamente. Otras opciones: virtualbox, ssh\n",
      "* Using Docker Desktop driver with root privileges\n",
      "* Starting control plane node dc1 in cluster dc1\n",
      "* Pulling base image ...\n",
      "* Creando docker container (CPUs=2, Memory=4000MB) ...\n",
      "* Preparando Kubernetes v1.26.3 en Docker 23.0.2...\n",
      "  - Generando certificados y llaves\n",
      "  - Iniciando plano de control\n",
      "  - Configurando reglas RBAC...\n",
      "* Configurando CNI bridge CNI ...\n",
      "  - Using image gcr.io/k8s-minikube/storage-provisioner:v5\n",
      "* Verifying Kubernetes components...\n",
      "* Complementos habilitados: storage-provisioner, default-storageclass\n",
      "* Done! kubectl is now configured to use \"dc1\" cluster and \"default\" namespace by default\n"
     ]
    }
   ],
   "source": [
    "%%bash\n",
    "# Initialize docker first\n",
    "#sleep 30\n",
    "minikube start -p dc1"
   ]
  },
  {
   "cell_type": "code",
   "execution_count": 3,
   "metadata": {},
   "outputs": [
    {
     "name": "stdout",
     "output_type": "stream",
     "text": [
      "dc1\n",
      "type: Control Plane\n",
      "host: Running\n",
      "kubelet: Running\n",
      "apiserver: Running\n",
      "kubeconfig: Configured\n",
      "\n",
      "Switched to context \"dc1\".\n"
     ]
    }
   ],
   "source": [
    "%%bash\n",
    "minikube status -p dc1\n",
    "kubectl config use-context dc1"
   ]
  },
  {
   "cell_type": "code",
   "execution_count": 4,
   "metadata": {},
   "outputs": [
    {
     "name": "stdout",
     "output_type": "stream",
     "text": [
      "\"hashicorp\" already exists with the same configuration, skipping\n",
      "Hang tight while we grab the latest from your chart repositories...\n",
      "...Successfully got an update from the \"jaeger-all-in-one\" chart repository\n",
      "...Successfully got an update from the \"hashicorp\" chart repository\n",
      "...Successfully got an update from the \"jaegertracing\" chart repository\n",
      "...Successfully got an update from the \"datadog\" chart repository\n",
      "...Successfully got an update from the \"secrets-store-csi-driver\" chart repository\n",
      "...Successfully got an update from the \"signoz\" chart repository\n",
      "...Successfully got an update from the \"external-secrets\" chart repository\n",
      "...Successfully got an update from the \"jetstack\" chart repository\n",
      "...Successfully got an update from the \"bitnami\" chart repository\n",
      "...Successfully got an update from the \"gitlab\" chart repository\n",
      "Update Complete. ⎈Happy Helming!⎈\n"
     ]
    }
   ],
   "source": [
    "%%bash\n",
    "helm repo add hashicorp https://helm.releases.hashicorp.com\n",
    "helm repo update"
   ]
  },
  {
   "cell_type": "code",
   "execution_count": 5,
   "metadata": {},
   "outputs": [],
   "source": [
    "%%bash\n",
    "rm -rf /tmp/vault\n",
    "mkdir /tmp/vault"
   ]
  },
  {
   "cell_type": "raw",
   "metadata": {},
   "source": [
    "## In a terminal\n",
    "\n",
    "export VAULT_K8S_NAMESPACE=\"vault\" \\\n",
    "export VAULT_HELM_RELEASE_NAME=\"vault\" \\\n",
    "export VAULT_SERVICE_NAME=\"vault-internal\" \\\n",
    "export K8S_CLUSTER_NAME=\"cluster.local\" \\\n",
    "export WORKDIR=/tmp/vault\n",
    "\n",
    "openssl genrsa -out ${WORKDIR}/vault.key 2048\n",
    "cat > ${WORKDIR}/vault-csr.conf <<EOF\n",
    "[req]\n",
    "default_bits = 2048\n",
    "prompt = no\n",
    "encrypt_key = yes\n",
    "default_md = sha256\n",
    "distinguished_name = kubelet_serving\n",
    "req_extensions = v3_req\n",
    "[ kubelet_serving ]\n",
    "O = system:nodes\n",
    "CN = system:node:*.${VAULT_HELM_RELEASE_NAME}.svc.${K8S_CLUSTER_NAME}\n",
    "[ v3_req ]\n",
    "basicConstraints = CA:FALSE\n",
    "keyUsage = nonRepudiation, digitalSignature, keyEncipherment, dataEncipherment\n",
    "extendedKeyUsage = serverAuth, clientAuth\n",
    "subjectAltName = @alt_names\n",
    "[alt_names]\n",
    "DNS.1 = *.${VAULT_SERVICE_NAME}\n",
    "DNS.2 = *.${VAULT_SERVICE_NAME}.${VAULT_HELM_RELEASE_NAME}.svc.${K8S_CLUSTER_NAME}\n",
    "DNS.3 = *.${VAULT_HELM_RELEASE_NAME}\n",
    "DNS.4 = *.${VAULT_HELM_RELEASE_NAME}.svc.${K8S_CLUSTER_NAME}\n",
    "IP.1 = 127.0.0.1\n",
    "EOF\n",
    "\n",
    "openssl req -new -key ${WORKDIR}/vault.key -out ${WORKDIR}/vault.csr -config ${WORKDIR}/vault-csr.conf\n",
    "\n",
    "\n",
    "cat > ${WORKDIR}/csr.yaml <<EOF\n",
    "apiVersion: certificates.k8s.io/v1\n",
    "kind: CertificateSigningRequest\n",
    "metadata:\n",
    "   name: vault.svc\n",
    "spec:\n",
    "   signerName: kubernetes.io/kubelet-serving\n",
    "   expirationSeconds: 8640000\n",
    "   request: $(cat ${WORKDIR}/vault.csr|base64|tr -d '\\n')\n",
    "   usages:\n",
    "   - digital signature\n",
    "   - key encipherment\n",
    "   - server auth\n",
    "EOF\n",
    "\n",
    "kubectl create -f ${WORKDIR}/csr.yaml\n",
    "\n",
    "kubectl certificate approve vault.svc\n",
    "\n",
    "kubectl get csr vault.svc -o jsonpath='{.status.certificate}' | openssl base64 -d -A -out ${WORKDIR}/vault.crt\n",
    "kubectl config view \\\n",
    "--raw \\\n",
    "--minify \\\n",
    "--flatten \\\n",
    "-o jsonpath='{.clusters[].cluster.certificate-authority-data}' \\\n",
    "| base64 -d > ${WORKDIR}/vault.ca\n",
    "\n",
    "kubectl create namespace $VAULT_K8S_NAMESPACE\n",
    "\n",
    "kubectl create secret generic vault-ha-tls \\\n",
    "   -n $VAULT_K8S_NAMESPACE \\\n",
    "   --from-file=vault.key=${WORKDIR}/vault.key \\\n",
    "   --from-file=vault.crt=${WORKDIR}/vault.crt \\\n",
    "   --from-file=vault.ca=${WORKDIR}/vault.ca\n",
    "\n"
   ]
  },
  {
   "cell_type": "code",
   "execution_count": 6,
   "metadata": {},
   "outputs": [
    {
     "name": "stdout",
     "output_type": "stream",
     "text": [
      "env: WORKDIR=/tmp/vault\n",
      "env: VAULT_K8S_NAMESPACE=vault\n",
      "env: VAULT_HELM_RELEASE_NAME=vault\n",
      "env: VAULT_SERVICE_NAME=vault-internal\n",
      "env: K8S_CLUSTER_NAME=cluster.local\n"
     ]
    }
   ],
   "source": [
    "%env WORKDIR=/tmp/vault\n",
    "%env VAULT_K8S_NAMESPACE=vault\n",
    "%env VAULT_HELM_RELEASE_NAME=vault\n",
    "%env VAULT_SERVICE_NAME=vault-internal \n",
    "%env K8S_CLUSTER_NAME=cluster.local "
   ]
  },
  {
   "attachments": {},
   "cell_type": "markdown",
   "metadata": {},
   "source": [
    "### Adding enterprise license based on https://developer.hashicorp.com/vault/docs/platform/k8s/helm/enterprise"
   ]
  },
  {
   "cell_type": "code",
   "execution_count": 7,
   "metadata": {},
   "outputs": [
    {
     "name": "stdout",
     "output_type": "stream",
     "text": [
      "secret/vault-ent-license created\n"
     ]
    }
   ],
   "source": [
    "%%bash \n",
    "secret=$(cat vault.hclic)\n",
    "kubectl create secret generic vault-ent-license --from-literal=\"license=${secret}\" -n $VAULT_K8S_NAMESPACE"
   ]
  },
  {
   "cell_type": "code",
   "execution_count": 8,
   "metadata": {},
   "outputs": [],
   "source": [
    "%%bash\n",
    "cat > ${WORKDIR}/overrides.yaml <<EOF\n",
    "global:\n",
    "   enabled: true\n",
    "   tlsDisable: false # Disabling TLS to avoid issues when connecting to Vault via port forwarding\n",
    "\n",
    "injector:\n",
    "   enabled: true\n",
    "   #repository: registry.connect.redhat.com/hashicorp/vault-k8s\n",
    "   # Testing on Mac M1 so moving to arm image\n",
    "   image:\n",
    "      repository: docker.io/hashicorp/vault-k8s\n",
    "      #repository: registry.connect.redhat.com/hashicorp/vault-k8s\n",
    "      # Testing on Mac M1 so moving to arm image\n",
    "   agentImage:\n",
    "      repository: docker.io/hashicorp/vault\n",
    "      #repository: registry.connect.redhat.com/hashicorp/vault\n",
    "      # Testing on Mac M1 so moving to arm image\n",
    "\n",
    "# Supported log levels include: trace, debug, info, warn, error\n",
    "logLevel: \"trace\" # Set to trace for initial troubleshooting, info for normal operation\n",
    "\n",
    "server:\n",
    "# config.yaml\n",
    "   image:\n",
    "      repository: docker.io/hashicorp/vault-enterprise\n",
    "      tag: 1.13.1-ent\n",
    "\n",
    "   enterpriseLicense:\n",
    "      secretName: vault-ent-license\n",
    "   extraEnvironmentVars:\n",
    "      VAULT_CACERT: /vault/userconfig/vault-ha-tls/vault.ca\n",
    "      VAULT_TLSCERT: /vault/userconfig/vault-ha-tls/vault.crt\n",
    "      VAULT_TLSKEY: /vault/userconfig/vault-ha-tls/vault.key\n",
    "   volumes:\n",
    "      - name: userconfig-vault-ha-tls\n",
    "        secret:\n",
    "         defaultMode: 420\n",
    "         secretName: vault-ha-tls\n",
    "   volumeMounts:\n",
    "      - mountPath: /vault/userconfig/vault-ha-tls\n",
    "        name: userconfig-vault-ha-tls\n",
    "        readOnly: true\n",
    "   standalone:\n",
    "      enabled: false\n",
    "   affinity: \"\"\n",
    "   ha:\n",
    "      enabled: true\n",
    "      replicas: 3\n",
    "      raft:\n",
    "         enabled: true\n",
    "         setNodeId: true\n",
    "         config: |\n",
    "            ui = true\n",
    "            listener \"tcp\" {\n",
    "               tls_disable = 0 # Disabling TLS to avoid issues when connecting to Vault via port forwarding\n",
    "               address = \"[::]:8200\"\n",
    "               cluster_address = \"[::]:8201\"\n",
    "               tls_cert_file = \"/vault/userconfig/vault-ha-tls/vault.crt\"\n",
    "               tls_key_file  = \"/vault/userconfig/vault-ha-tls/vault.key\"\n",
    "               tls_client_ca_file = \"/vault/userconfig/vault-ha-tls/vault.ca\"\n",
    "               api_address = \"https://vault-active.vault.svc.cluster.local:8200\"\n",
    "            }\n",
    "            storage \"raft\" {\n",
    "               path = \"/vault/data\"\n",
    "            \n",
    "               retry_join {\n",
    "                  auto_join             = \"provider=k8s namespace=vault label_selector=\\\"component=server,app.kubernetes.io/name=vault\\\"\"\n",
    "                  auto_join_scheme      = \"https\"\n",
    "                  leader_ca_cert_file   = \"/vault/userconfig/vault-ha-tls/vault.ca\"\n",
    "                  leader_tls_servername = \"vaultpr-0.vault-internal\" #Tiene que matchear una SAN del certificado\n",
    "               }\n",
    "            \n",
    "            }\n",
    "            disable_mlock = true\n",
    "            service_registration \"kubernetes\" {}\n",
    "EOF\n"
   ]
  },
  {
   "cell_type": "code",
   "execution_count": 9,
   "metadata": {},
   "outputs": [
    {
     "name": "stdout",
     "output_type": "stream",
     "text": [
      "NAME: vault\n",
      "LAST DEPLOYED: Mon May 22 17:48:59 2023\n",
      "NAMESPACE: vault\n",
      "STATUS: deployed\n",
      "REVISION: 1\n",
      "NOTES:\n",
      "Thank you for installing HashiCorp Vault!\n",
      "\n",
      "Now that you have deployed Vault, you should look over the docs on using\n",
      "Vault with Kubernetes available here:\n",
      "\n",
      "https://www.vaultproject.io/docs/\n",
      "\n",
      "\n",
      "Your release is named vault. To learn more about the release, try:\n",
      "\n",
      "  $ helm status vault\n",
      "  $ helm get manifest vault\n"
     ]
    }
   ],
   "source": [
    "%%bash\n",
    "helm install -n $VAULT_K8S_NAMESPACE $VAULT_HELM_RELEASE_NAME hashicorp/vault -f ${WORKDIR}/overrides.yaml"
   ]
  },
  {
   "cell_type": "code",
   "execution_count": 10,
   "metadata": {},
   "outputs": [
    {
     "name": "stdout",
     "output_type": "stream",
     "text": [
      "NAME                                   READY   STATUS              RESTARTS   AGE\n",
      "vault-0                                0/1     ContainerCreating   0          5s\n",
      "vault-1                                0/1     ContainerCreating   0          5s\n",
      "vault-2                                0/1     ContainerCreating   0          5s\n",
      "vault-agent-injector-5946fd9b8-qswtj   0/1     ContainerCreating   0          6s\n",
      "vault-agent-injector-5946fd9b8-qswtj   0/1     Running             0          8s\n",
      "vault-agent-injector-5946fd9b8-qswtj   0/1     Running             0          15s\n",
      "vault-agent-injector-5946fd9b8-qswtj   1/1     Running             0          16s\n",
      "vault-0                                0/1     ContainerCreating   0          16s\n",
      "vault-0                                0/1     Running             0          17s\n",
      "vault-2                                0/1     ContainerCreating   0          17s\n",
      "vault-2                                0/1     Running             0          18s\n",
      "vault-1                                0/1     ContainerCreating   0          18s\n",
      "vault-1                                0/1     Running             0          19s\n",
      "Error while terminating subprocess (pid=15986): \n"
     ]
    }
   ],
   "source": [
    "%%bash\n",
    "# Stop when all Vault nodes are Running\n",
    "kubectl -n $VAULT_K8S_NAMESPACE get pods --watch"
   ]
  },
  {
   "cell_type": "code",
   "execution_count": 11,
   "metadata": {},
   "outputs": [
    {
     "name": "stdout",
     "output_type": "stream",
     "text": [
      "vault-0                                0/1     Running             0          46s\n"
     ]
    }
   ],
   "source": [
    "%%bash\n",
    "# Initialize\n",
    "kubectl exec -n $VAULT_K8S_NAMESPACE vault-0 -- vault operator init \\\n",
    "    -key-shares=1 \\\n",
    "    -key-threshold=1 \\\n",
    "    -format=json > ${WORKDIR}/cluster-keys.json"
   ]
  },
  {
   "cell_type": "code",
   "execution_count": 12,
   "metadata": {},
   "outputs": [
    {
     "name": "stdout",
     "output_type": "stream",
     "text": [
      "V4vl3INJsSwzCW+9tMbe/mgpic2qFCQc0YzRz+lU640=\n"
     ]
    }
   ],
   "source": [
    "%%bash\n",
    "# Unseal key\n",
    "jq -r \".unseal_keys_b64[]\" ${WORKDIR}/cluster-keys.json\n",
    "VAULT_UNSEAL_KEY=$(jq -r \".unseal_keys_b64[]\" ${WORKDIR}/cluster-keys.json)"
   ]
  },
  {
   "cell_type": "code",
   "execution_count": 13,
   "metadata": {},
   "outputs": [
    {
     "name": "stdout",
     "output_type": "stream",
     "text": [
      "vault-0                                0/1     Running             0          63s\n",
      "vault-0                                0/1     Running             0          63s\n",
      "Key                     Value\n",
      "---                     -----\n",
      "Seal Type               shamir\n",
      "Initialized             true\n",
      "Sealed                  false\n",
      "Total Shares            1\n",
      "Threshold               1\n",
      "Version                 1.13.1+ent\n",
      "Build Date              2023-03-23T20:09:57Z\n",
      "Storage Type            raft\n",
      "Cluster Name            vault-cluster-7156bb83\n",
      "Cluster ID              1bdac7f0-bbcf-7efa-33c2-9f4fe15f5d9b\n",
      "HA Enabled              true\n",
      "HA Cluster              https://vault-0.vault-internal:8201\n",
      "HA Mode                 active\n",
      "Active Since            2023-05-22T15:50:03.887529469Z\n",
      "Raft Committed Index    74\n",
      "Raft Applied Index      74\n",
      "Last WAL                30\n"
     ]
    },
    {
     "name": "stdout",
     "output_type": "stream",
     "text": [
      "vault-0                                1/1     Running             0          64s\n"
     ]
    }
   ],
   "source": [
    "%%bash\n",
    "# Unseal\n",
    "kubectl exec -n $VAULT_K8S_NAMESPACE vault-0 -- vault operator unseal $(jq -r \".unseal_keys_b64[]\" ${WORKDIR}/cluster-keys.json)"
   ]
  },
  {
   "cell_type": "code",
   "execution_count": 14,
   "metadata": {},
   "outputs": [
    {
     "name": "stdout",
     "output_type": "stream",
     "text": [
      "Key                Value\n",
      "---                -----\n",
      "Seal Type          shamir\n",
      "Initialized        true\n",
      "Sealed             true\n",
      "Total Shares       1\n",
      "Threshold          1\n",
      "Unseal Progress    0/1\n",
      "Unseal Nonce       n/a\n",
      "Version            1.13.1+ent\n",
      "Build Date         2023-03-23T20:09:57Z\n",
      "Storage Type       raft\n",
      "HA Enabled         true\n"
     ]
    },
    {
     "name": "stdout",
     "output_type": "stream",
     "text": [
      "vault-1                                0/1     Running             0          70s\n",
      "vault-1                                0/1     Running             0          70s\n",
      "vault-1                                1/1     Running             0          70s\n",
      "vault-1                                1/1     Running             0          72s\n"
     ]
    }
   ],
   "source": [
    "%%bash\n",
    "# Unseal\n",
    "kubectl exec -n $VAULT_K8S_NAMESPACE vault-1 -- vault operator unseal $(jq -r \".unseal_keys_b64[]\" ${WORKDIR}/cluster-keys.json)"
   ]
  },
  {
   "cell_type": "code",
   "execution_count": 15,
   "metadata": {},
   "outputs": [
    {
     "name": "stderr",
     "output_type": "stream",
     "text": [
      "Unable to use a TTY - input is not a terminal or the right kind of file\n"
     ]
    },
    {
     "name": "stdout",
     "output_type": "stream",
     "text": [
      "Key                Value\n",
      "---                -----\n",
      "Seal Type          shamir\n",
      "Initialized        true\n",
      "Sealed             true\n",
      "Total Shares       1\n",
      "Threshold          1\n",
      "Unseal Progress    0/1\n",
      "Unseal Nonce       n/a\n",
      "Version            1.13.1+ent\n",
      "Build Date         2023-03-23T20:09:57Z\n",
      "Storage Type       raft\n",
      "HA Enabled         true\n"
     ]
    },
    {
     "name": "stdout",
     "output_type": "stream",
     "text": [
      "vault-2                                0/1     Running             0          79s\n",
      "vault-2                                0/1     Running             0          79s\n",
      "vault-2                                1/1     Running             0          79s\n",
      "vault-2                                1/1     Running             0          81s\n"
     ]
    }
   ],
   "source": [
    "%%bash\n",
    "# Unseal\n",
    "kubectl exec -n $VAULT_K8S_NAMESPACE -ti vault-2 -- vault operator unseal $(jq -r \".unseal_keys_b64[]\" ${WORKDIR}/cluster-keys.json)"
   ]
  },
  {
   "cell_type": "code",
   "execution_count": 16,
   "metadata": {},
   "outputs": [
    {
     "name": "stderr",
     "output_type": "stream",
     "text": [
      "Unable to use a TTY - input is not a terminal or the right kind of file\n"
     ]
    },
    {
     "name": "stdout",
     "output_type": "stream",
     "text": [
      "Key                     Value\n",
      "---                     -----\n",
      "Seal Type               shamir\n",
      "Initialized             true\n",
      "Sealed                  false\n",
      "Total Shares            1\n",
      "Threshold               1\n",
      "Version                 1.13.1+ent\n",
      "Build Date              2023-03-23T20:09:57Z\n",
      "Storage Type            raft\n",
      "Cluster Name            vault-cluster-7156bb83\n",
      "Cluster ID              1bdac7f0-bbcf-7efa-33c2-9f4fe15f5d9b\n",
      "HA Enabled              true\n",
      "HA Cluster              https://vault-0.vault-internal:8201\n",
      "HA Mode                 active\n",
      "Active Since            2023-05-22T15:50:03.887529469Z\n",
      "Raft Committed Index    105\n",
      "Raft Applied Index      105\n",
      "Last WAL                33\n"
     ]
    }
   ],
   "source": [
    "%%bash\n",
    "kubectl exec -n $VAULT_K8S_NAMESPACE -ti vault-0 -- vault status\n"
   ]
  },
  {
   "cell_type": "code",
   "execution_count": 17,
   "metadata": {},
   "outputs": [
    {
     "name": "stderr",
     "output_type": "stream",
     "text": [
      "Unable to use a TTY - input is not a terminal or the right kind of file\n"
     ]
    },
    {
     "name": "stdout",
     "output_type": "stream",
     "text": [
      "Source: /vault/license/license (path from the VAULT_LICENSE_PATH environment variable)\n",
      "Product: vault\n",
      "License ID: 152295e1-3784-2641-bd01-bfdbc0a37c35\n",
      "Customer ID: d9a6d7e8-e947-ea92-ec07-82c6901283c1\n",
      "Installation ID: *\n",
      "Issue Time: 2022-12-19 08:50:24.624461496 +0000 UTC\n",
      "Start Time: 2022-12-19 00:00:00 +0000 UTC\n",
      "Expiration Time: 2023-12-19 23:59:59.999 +0000 UTC\n",
      "Termination Time: 2023-12-19 23:59:59.999 +0000 UTC\n",
      "{\"license_id\":\"152295e1-3784-2641-bd01-bfdbc0a37c35\",\"customer_id\":\"d9a6d7e8-e947-ea92-ec07-82c6901283c1\",\"installation_id\":\"*\",\"issue_time\":\"2022-12-19T08:50:24.624461496Z\",\"start_time\":\"2022-12-19T00:00:00Z\",\"expiration_time\":\"2023-12-19T23:59:59.999Z\",\"termination_time\":\"2023-12-19T23:59:59.999Z\",\"flags\":{\"modules\":[\"multi-dc-scale\",\"governance-policy\",\"advanced-data-protection-transform\",\"advanced-data-protection-key-management\"]},\"features\":[\"HSM\",\"Performance Replication\",\"DR Replication\",\"MFA\",\"Sentinel\",\"Seal Wrapping\",\"Control Groups\",\"Performance Standby\",\"Namespaces\",\"KMIP\",\"Entropy Augmentation\",\"Transform Secrets Engine\",\"Lease Count Quotas\",\"Key Management Secrets Engine\",\"Automated Snapshots\",\"Key Management Transparent Data Encryption\"],\"performance_standby_count\":9999}\n",
      "\n",
      "License is valid\n"
     ]
    }
   ],
   "source": [
    "%%bash\n",
    "kubectl exec -n $VAULT_K8S_NAMESPACE -ti vault-0 --  vault license inspect\n"
   ]
  },
  {
   "cell_type": "code",
   "execution_count": 18,
   "metadata": {},
   "outputs": [
    {
     "name": "stderr",
     "output_type": "stream",
     "text": [
      "Unable to use a TTY - input is not a terminal or the right kind of file\n"
     ]
    },
    {
     "name": "stdout",
     "output_type": "stream",
     "text": [
      "Key                                    Value\n",
      "---                                    -----\n",
      "Seal Type                              shamir\n",
      "Initialized                            true\n",
      "Sealed                                 false\n",
      "Total Shares                           1\n",
      "Threshold                              1\n",
      "Version                                1.13.1+ent\n",
      "Build Date                             2023-03-23T20:09:57Z\n",
      "Storage Type                           raft\n",
      "Cluster Name                           vault-cluster-7156bb83\n",
      "Cluster ID                             1bdac7f0-bbcf-7efa-33c2-9f4fe15f5d9b\n",
      "HA Enabled                             true\n",
      "HA Cluster                             https://vault-0.vault-internal:8201\n",
      "HA Mode                                standby\n",
      "Active Node Address                    https://10.244.0.4:8200\n",
      "Performance Standby Node               true\n",
      "Performance Standby Last Remote WAL    0\n",
      "Raft Committed Index                   107\n",
      "Raft Applied Index                     107\n"
     ]
    }
   ],
   "source": [
    "%%bash\n",
    "kubectl exec -n $VAULT_K8S_NAMESPACE -ti vault-1 -- vault status"
   ]
  },
  {
   "cell_type": "code",
   "execution_count": 19,
   "metadata": {},
   "outputs": [
    {
     "name": "stderr",
     "output_type": "stream",
     "text": [
      "Unable to use a TTY - input is not a terminal or the right kind of file\n"
     ]
    },
    {
     "name": "stdout",
     "output_type": "stream",
     "text": [
      "Source: /vault/license/license (path from the VAULT_LICENSE_PATH environment variable)\n",
      "Product: vault\n",
      "License ID: 152295e1-3784-2641-bd01-bfdbc0a37c35\n",
      "Customer ID: d9a6d7e8-e947-ea92-ec07-82c6901283c1\n",
      "Installation ID: *\n",
      "Issue Time: 2022-12-19 08:50:24.624461496 +0000 UTC\n",
      "Start Time: 2022-12-19 00:00:00 +0000 UTC\n",
      "Expiration Time: 2023-12-19 23:59:59.999 +0000 UTC\n",
      "Termination Time: 2023-12-19 23:59:59.999 +0000 UTC\n",
      "{\"license_id\":\"152295e1-3784-2641-bd01-bfdbc0a37c35\",\"customer_id\":\"d9a6d7e8-e947-ea92-ec07-82c6901283c1\",\"installation_id\":\"*\",\"issue_time\":\"2022-12-19T08:50:24.624461496Z\",\"start_time\":\"2022-12-19T00:00:00Z\",\"expiration_time\":\"2023-12-19T23:59:59.999Z\",\"termination_time\":\"2023-12-19T23:59:59.999Z\",\"flags\":{\"modules\":[\"multi-dc-scale\",\"governance-policy\",\"advanced-data-protection-transform\",\"advanced-data-protection-key-management\"]},\"features\":[\"HSM\",\"Performance Replication\",\"DR Replication\",\"MFA\",\"Sentinel\",\"Seal Wrapping\",\"Control Groups\",\"Performance Standby\",\"Namespaces\",\"KMIP\",\"Entropy Augmentation\",\"Transform Secrets Engine\",\"Lease Count Quotas\",\"Key Management Secrets Engine\",\"Automated Snapshots\",\"Key Management Transparent Data Encryption\"],\"performance_standby_count\":9999}\n",
      "\n",
      "License is valid\n"
     ]
    }
   ],
   "source": [
    "%%bash\n",
    "kubectl exec -n $VAULT_K8S_NAMESPACE -ti vault-1 --  vault license inspect"
   ]
  },
  {
   "cell_type": "code",
   "execution_count": 20,
   "metadata": {},
   "outputs": [
    {
     "name": "stderr",
     "output_type": "stream",
     "text": [
      "Unable to use a TTY - input is not a terminal or the right kind of file\n"
     ]
    },
    {
     "name": "stdout",
     "output_type": "stream",
     "text": [
      "Key                                    Value\n",
      "---                                    -----\n",
      "Seal Type                              shamir\n",
      "Initialized                            true\n",
      "Sealed                                 false\n",
      "Total Shares                           1\n",
      "Threshold                              1\n",
      "Version                                1.13.1+ent\n",
      "Build Date                             2023-03-23T20:09:57Z\n",
      "Storage Type                           raft\n",
      "Cluster Name                           vault-cluster-7156bb83\n",
      "Cluster ID                             1bdac7f0-bbcf-7efa-33c2-9f4fe15f5d9b\n",
      "HA Enabled                             true\n",
      "HA Cluster                             https://vault-0.vault-internal:8201\n",
      "HA Mode                                standby\n",
      "Active Node Address                    https://10.244.0.4:8200\n",
      "Performance Standby Node               true\n",
      "Performance Standby Last Remote WAL    0\n",
      "Raft Committed Index                   110\n",
      "Raft Applied Index                     110\n"
     ]
    }
   ],
   "source": [
    "%%bash\n",
    "kubectl exec -n $VAULT_K8S_NAMESPACE -ti vault-2 -- vault status"
   ]
  },
  {
   "cell_type": "code",
   "execution_count": 21,
   "metadata": {},
   "outputs": [
    {
     "name": "stderr",
     "output_type": "stream",
     "text": [
      "Unable to use a TTY - input is not a terminal or the right kind of file\n"
     ]
    },
    {
     "name": "stdout",
     "output_type": "stream",
     "text": [
      "Source: /vault/license/license (path from the VAULT_LICENSE_PATH environment variable)\n",
      "Product: vault\n",
      "License ID: 152295e1-3784-2641-bd01-bfdbc0a37c35\n",
      "Customer ID: d9a6d7e8-e947-ea92-ec07-82c6901283c1\n",
      "Installation ID: *\n",
      "Issue Time: 2022-12-19 08:50:24.624461496 +0000 UTC\n",
      "Start Time: 2022-12-19 00:00:00 +0000 UTC\n",
      "Expiration Time: 2023-12-19 23:59:59.999 +0000 UTC\n",
      "Termination Time: 2023-12-19 23:59:59.999 +0000 UTC\n",
      "{\"license_id\":\"152295e1-3784-2641-bd01-bfdbc0a37c35\",\"customer_id\":\"d9a6d7e8-e947-ea92-ec07-82c6901283c1\",\"installation_id\":\"*\",\"issue_time\":\"2022-12-19T08:50:24.624461496Z\",\"start_time\":\"2022-12-19T00:00:00Z\",\"expiration_time\":\"2023-12-19T23:59:59.999Z\",\"termination_time\":\"2023-12-19T23:59:59.999Z\",\"flags\":{\"modules\":[\"multi-dc-scale\",\"governance-policy\",\"advanced-data-protection-transform\",\"advanced-data-protection-key-management\"]},\"features\":[\"HSM\",\"Performance Replication\",\"DR Replication\",\"MFA\",\"Sentinel\",\"Seal Wrapping\",\"Control Groups\",\"Performance Standby\",\"Namespaces\",\"KMIP\",\"Entropy Augmentation\",\"Transform Secrets Engine\",\"Lease Count Quotas\",\"Key Management Secrets Engine\",\"Automated Snapshots\",\"Key Management Transparent Data Encryption\"],\"performance_standby_count\":9999}\n",
      "\n",
      "License is valid\n"
     ]
    }
   ],
   "source": [
    "%%bash\n",
    "kubectl exec -n $VAULT_K8S_NAMESPACE -ti vault-2 --  vault license inspect"
   ]
  },
  {
   "attachments": {},
   "cell_type": "markdown",
   "metadata": {},
   "source": [
    "## Get Root Token and port forward to Vault on port 8200"
   ]
  },
  {
   "cell_type": "code",
   "execution_count": 22,
   "metadata": {},
   "outputs": [
    {
     "name": "stdout",
     "output_type": "stream",
     "text": [
      "hvs.YngUaWsrp3hk4YtNMcJSz35I\n"
     ]
    }
   ],
   "source": [
    "%%bash\n",
    "cat ${WORKDIR}/cluster-keys.json | jq -r \".root_token\""
   ]
  },
  {
   "cell_type": "code",
   "execution_count": 23,
   "metadata": {},
   "outputs": [
    {
     "name": "stdout",
     "output_type": "stream",
     "text": [
      "Forwarding from 127.0.0.1:8200 -> 8200\n",
      "Forwarding from [::1]:8200 -> 8200\n",
      "vault-agent-injector-5946fd9b8-qswtj   1/1     Terminating         0          2m8s\n",
      "vault-agent-injector-5946fd9b8-qswtj   0/1     Terminating         0          2m8s\n",
      "vault-agent-injector-5946fd9b8-qswtj   0/1     Terminating         0          2m9s\n",
      "vault-agent-injector-5946fd9b8-qswtj   0/1     Terminating         0          2m9s\n",
      "Handling connection for 8200\n",
      "Handling connection for 8200\n",
      "Handling connection for 8200\n",
      "Handling connection for 8200\n",
      "Handling connection for 8200\n",
      "vault-secrets-operator-controller-manager-67cfc56bcd-5brcv   0/2     Pending             0          0s\n",
      "vault-secrets-operator-controller-manager-67cfc56bcd-5brcv   0/2     Pending             0          0s\n",
      "vault-secrets-operator-controller-manager-67cfc56bcd-5brcv   0/2     ContainerCreating   0          0s\n",
      "vault-secrets-operator-controller-manager-67cfc56bcd-5brcv   1/2     Running             0          13s\n",
      "vault-secrets-operator-controller-manager-67cfc56bcd-5brcv   2/2     Running             0          20s\n",
      "mypod                                                        0/1     Pending             0          1s\n",
      "mypod                                                        0/1     Pending             0          1s\n",
      "mypod                                                        0/1     ContainerCreating   0          1s\n",
      "mypod                                                        1/1     Running             0          10s\n",
      "Error while terminating subprocess (pid=16046): \n"
     ]
    }
   ],
   "source": [
    "%%bash\n",
    "#kubectl -n $VAULT_K8S_NAMESPACE get service vault\n",
    "kubectl -n vault port-forward service/vault 8200:8200 "
   ]
  }
 ],
 "metadata": {
  "kernelspec": {
   "display_name": "Python 3 (ipykernel)",
   "language": "python",
   "name": "python3"
  },
  "language_info": {
   "codemirror_mode": {
    "name": "ipython",
    "version": 3
   },
   "file_extension": ".py",
   "mimetype": "text/x-python",
   "name": "python",
   "nbconvert_exporter": "python",
   "pygments_lexer": "ipython3",
   "version": "3.9.6"
  },
  "vscode": {
   "interpreter": {
    "hash": "31f2aee4e71d21fbe5cf8b01ff0e069b9275f58929596ceb00d14d90e3e16cd6"
   }
  }
 },
 "nbformat": 4,
 "nbformat_minor": 2
}
