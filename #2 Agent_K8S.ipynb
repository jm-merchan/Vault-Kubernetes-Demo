{
 "cells": [
  {
   "cell_type": "code",
   "execution_count": 1,
   "metadata": {},
   "outputs": [
    {
     "name": "stdout",
     "output_type": "stream",
     "text": [
      "serviceaccount/vault-auth created\n",
      "clusterrolebinding.rbac.authorization.k8s.io/role-tokenreview-binding created\n"
     ]
    }
   ],
   "source": [
    "%%bash\n",
    "# Create Service account that will be used for Vault to check against K8S API\n",
    "cat > vault-auth-service-account.yaml <<EOF\n",
    "apiVersion: v1\n",
    "kind: ServiceAccount\n",
    "metadata:\n",
    "  name: vault-auth\n",
    "  namespace: default\n",
    "---\n",
    "apiVersion: rbac.authorization.k8s.io/v1\n",
    "kind: ClusterRoleBinding\n",
    "metadata:\n",
    "  name: role-tokenreview-binding\n",
    "  namespace: default\n",
    "roleRef:\n",
    "  apiGroup: rbac.authorization.k8s.io\n",
    "  kind: ClusterRole\n",
    "  name: system:auth-delegator\n",
    "subjects:\n",
    "- kind: ServiceAccount\n",
    "  name: vault-auth\n",
    "  namespace: default\n",
    "EOF\n",
    "\n",
    "kubectl apply --filename vault-auth-service-account.yaml"
   ]
  },
  {
   "cell_type": "code",
   "execution_count": 2,
   "metadata": {},
   "outputs": [
    {
     "name": "stdout",
     "output_type": "stream",
     "text": [
      "secret/vault-auth-secret created\n"
     ]
    }
   ],
   "source": [
    "%%bash\n",
    "# Define service account secret\n",
    "cat > vault-auth-secret.yaml <<EOF\n",
    "apiVersion: v1\n",
    "kind: Secret\n",
    "metadata:\n",
    "  name: vault-auth-secret\n",
    "  annotations:\n",
    "    kubernetes.io/service-account.name: vault-auth\n",
    "type: kubernetes.io/service-account-token\n",
    "EOF\n",
    "\n",
    "kubectl apply --filename vault-auth-secret.yaml"
   ]
  },
  {
   "cell_type": "code",
   "execution_count": 4,
   "metadata": {},
   "outputs": [
    {
     "name": "stdout",
     "output_type": "stream",
     "text": [
      "env: WORKDIR=/tmp/vault\n"
     ]
    }
   ],
   "source": [
    "%env WORKDIR=/tmp/vault"
   ]
  },
  {
   "cell_type": "code",
   "execution_count": 5,
   "metadata": {},
   "outputs": [
    {
     "name": "stdout",
     "output_type": "stream",
     "text": [
      "hvs.oS753uxfMVaEVRjHDqqgaJCh\n"
     ]
    }
   ],
   "source": [
    "%%bash\n",
    "cat ${WORKDIR}/cluster-keys.json | jq -r \".root_token\""
   ]
  },
  {
   "cell_type": "code",
   "execution_count": 19,
   "metadata": {},
   "outputs": [
    {
     "name": "stdout",
     "output_type": "stream",
     "text": [
      "env: VAULT_ADDR=https://127.0.0.1:8200\n",
      "env: VAULT_TOKEN=hvs.oS753uxfMVaEVRjHDqqgaJCh\n",
      "env: VAULT_CACERT=/tmp/vault/vault.ca\n"
     ]
    }
   ],
   "source": [
    "%env VAULT_ADDR=https://127.0.0.1:8200\n",
    "%env VAULT_TOKEN=hvs.oS753uxfMVaEVRjHDqqgaJCh\n",
    "%env VAULT_CACERT=/tmp/vault/vault.ca"
   ]
  },
  {
   "cell_type": "code",
   "execution_count": 29,
   "metadata": {},
   "outputs": [
    {
     "name": "stdout",
     "output_type": "stream",
     "text": [
      "Success! Uploaded policy: myapp-kv-ro\n"
     ]
    }
   ],
   "source": [
    "%%bash\n",
    "## Create K8S Auth method with mock data\n",
    "vault policy write myapp-kv-ro - <<EOF\n",
    "path \"secret/data/myapp/*\" {\n",
    "    capabilities = [\"read\", \"list\"]\n",
    "}\n",
    "EOF\n"
   ]
  },
  {
   "cell_type": "code",
   "execution_count": null,
   "metadata": {},
   "outputs": [],
   "source": [
    "%%bash\n",
    "vault secrets enable -path=secret kv-v2"
   ]
  },
  {
   "cell_type": "code",
   "execution_count": 22,
   "metadata": {},
   "outputs": [
    {
     "name": "stdout",
     "output_type": "stream",
     "text": [
      "Success! Enabled the kv-v2 secrets engine at: secret/\n",
      "====== Secret Path ======\n",
      "secret/data/myapp/config\n",
      "\n",
      "======= Metadata =======\n",
      "Key                Value\n",
      "---                -----\n",
      "created_time       2023-04-19T13:55:31.819358046Z\n",
      "custom_metadata    <nil>\n",
      "deletion_time      n/a\n",
      "destroyed          false\n",
      "version            1\n"
     ]
    }
   ],
   "source": [
    "%%bash\n",
    "vault kv put secret/myapp/config \\\n",
    "      username='appuser' \\\n",
    "      password='suP3rsec(et!' \\\n",
    "      ttl='30s'\n"
   ]
  },
  {
   "cell_type": "raw",
   "metadata": {},
   "source": [
    "##In a terminal\n",
    "kubectl exec -n vault vault-0 -i -t -- /bin/sh\n",
    "---\n",
    "vault login <root_token>\n",
    "vault auth enable kubernetes\n",
    "\n",
    "vault write auth/kubernetes/config \\\n",
    "    kubernetes_host=https://$KUBERNETES_SERVICE_HOST:$KUBERNETES_SERVICE_PORT\n",
    "\n",
    "vault write auth/kubernetes/role/example \\\n",
    "     bound_service_account_names=vault-auth \\\n",
    "     bound_service_account_namespaces=default \\\n",
    "     token_policies=myapp-kv-ro \\\n",
    "     ttl=24h"
   ]
  },
  {
   "cell_type": "code",
   "execution_count": 27,
   "metadata": {},
   "outputs": [
    {
     "name": "stdout",
     "output_type": "stream",
     "text": [
      "pod/devwebapp created\n"
     ]
    }
   ],
   "source": [
    "%%bash\n",
    "# Test Auth method\n",
    "\n",
    "cat > devwebapp.yaml <<EOF\n",
    "apiVersion: v1\n",
    "kind: Pod\n",
    "metadata:\n",
    "  name: devwebapp\n",
    "  labels:\n",
    "    app: devwebapp\n",
    "spec:\n",
    "  serviceAccountName: vault-auth\n",
    "  containers:\n",
    "    - name: devwebapp\n",
    "      image: nginx\n",
    "      env:\n",
    "        - name: VAULT_ADDR\n",
    "          value: \"https://vault.vault.svc.cluster.local:8200\"\n",
    "EOF\n",
    "\n",
    "kubectl apply --filename devwebapp.yaml --namespace default"
   ]
  },
  {
   "cell_type": "raw",
   "metadata": {},
   "source": [
    "#In a separate terminal\n",
    "kubectl exec --stdin=true --tty=true devwebapp -- /bin/sh\n",
    "\n",
    "KUBE_TOKEN=$(cat /var/run/secrets/kubernetes.io/serviceaccount/token)\n",
    "\n",
    "curl -k --request POST --data '{\"jwt\": \"'\"$KUBE_TOKEN\"'\", \"role\": \"example\"}' $VAULT_ADDR/v1/auth/kubernetes/login\n"
   ]
  },
  {
   "cell_type": "code",
   "execution_count": 76,
   "metadata": {},
   "outputs": [],
   "source": [
    "%%bash\n",
    "cat > configmap.yaml <<EOF\n",
    "apiVersion: v1\n",
    "data:\n",
    "  vault-agent-config.hcl: |\n",
    "    # Comment this out if running as sidecar instead of initContainer\n",
    "    exit_after_auth = true\n",
    "\n",
    "    pid_file = \"/home/vault/pidfile\"\n",
    "\n",
    "    vault {\n",
    "        address = \"https://vault.vault.svc.cluster.local:8200\"\n",
    "        tls_skip_verify = \"True\"\n",
    "    }\n",
    "\n",
    "    auto_auth {\n",
    "        # https://developer.hashicorp.com/vault/docs/agent/autoauth/methods\n",
    "        method \"kubernetes\" {\n",
    "            mount_path = \"auth/kubernetes\"\n",
    "            config = {\n",
    "                role = \"example\"\n",
    "            }\n",
    "        }\n",
    "\n",
    "        sink \"file\" {\n",
    "            config = {\n",
    "                path = \"/home/vault/.vault-token\"\n",
    "            }\n",
    "        }\n",
    "    }\n",
    "\n",
    "    template {\n",
    "    destination = \"/etc/secrets/index.html\"\n",
    "    contents = <<EOT\n",
    "    <html>\n",
    "    <body>\n",
    "    <p>Some secrets:</p>\n",
    "    {{- with secret \"secret/data/myapp/config\" }}\n",
    "    <ul>\n",
    "    <li><pre>username: {{ .Data.data.username }}</pre></li>\n",
    "    <li><pre>password: {{ .Data.data.password }}</pre></li>\n",
    "    </ul>\n",
    "    {{ end }}\n",
    "    </body>\n",
    "    </html>\n",
    "    EOT\n",
    "    }\n",
    "kind: ConfigMap\n",
    "metadata:\n",
    "  name: example-vault-agent-config\n",
    "  namespace: default\n",
    "EOF"
   ]
  },
  {
   "cell_type": "code",
   "execution_count": 77,
   "metadata": {},
   "outputs": [
    {
     "name": "stdout",
     "output_type": "stream",
     "text": [
      "configmap/example-vault-agent-config unchanged\n",
      "apiVersion: v1\n",
      "data:\n",
      "  vault-agent-config.hcl: |\n",
      "    # Comment this out if running as sidecar instead of initContainer\n",
      "    exit_after_auth = true\n",
      "\n",
      "    pid_file = \"/home/vault/pidfile\"\n",
      "\n",
      "    vault {\n",
      "        address = \"https://vault.vault.svc.cluster.local:8200\"\n",
      "        tls_skip_verify = \"True\"\n",
      "    }\n",
      "\n",
      "    auto_auth {\n",
      "        method \"kubernetes\" {\n",
      "            mount_path = \"auth/kubernetes\"\n",
      "            config = {\n",
      "                role = \"example\"\n",
      "            }\n",
      "        }\n",
      "\n",
      "        sink \"file\" {\n",
      "            config = {\n",
      "                path = \"/home/vault/.vault-token\"\n",
      "            }\n",
      "        }\n",
      "    }\n",
      "\n",
      "    template {\n",
      "    destination = \"/etc/secrets/index.html\"\n",
      "    contents = <<EOT\n",
      "    <html>\n",
      "    <body>\n",
      "    <p>Some secrets:</p>\n",
      "    {{- with secret \"secret/data/myapp/config\" }}\n",
      "    <ul>\n",
      "    <li><pre>username: {{ .Data.data.username }}</pre></li>\n",
      "    <li><pre>password: {{ .Data.data.password }}</pre></li>\n",
      "    </ul>\n",
      "    {{ end }}\n",
      "    </body>\n",
      "    </html>\n",
      "    EOT\n",
      "    }\n",
      "kind: ConfigMap\n",
      "metadata:\n",
      "  annotations:\n",
      "    kubectl.kubernetes.io/last-applied-configuration: |\n",
      "      {\"apiVersion\":\"v1\",\"data\":{\"vault-agent-config.hcl\":\"# Comment this out if running as sidecar instead of initContainer\\nexit_after_auth = true\\n\\npid_file = \\\"/home/vault/pidfile\\\"\\n\\nvault {\\n    address = \\\"https://vault.vault.svc.cluster.local:8200\\\"\\n    tls_skip_verify = \\\"True\\\"\\n}\\n\\nauto_auth {\\n    method \\\"kubernetes\\\" {\\n        mount_path = \\\"auth/kubernetes\\\"\\n        config = {\\n            role = \\\"example\\\"\\n        }\\n    }\\n\\n    sink \\\"file\\\" {\\n        config = {\\n            path = \\\"/home/vault/.vault-token\\\"\\n        }\\n    }\\n}\\n\\ntemplate {\\ndestination = \\\"/etc/secrets/index.html\\\"\\ncontents = \\u003c\\u003cEOT\\n\\u003chtml\\u003e\\n\\u003cbody\\u003e\\n\\u003cp\\u003eSome secrets:\\u003c/p\\u003e\\n{{- with secret \\\"secret/data/myapp/config\\\" }}\\n\\u003cul\\u003e\\n\\u003cli\\u003e\\u003cpre\\u003eusername: {{ .Data.data.username }}\\u003c/pre\\u003e\\u003c/li\\u003e\\n\\u003cli\\u003e\\u003cpre\\u003epassword: {{ .Data.data.password }}\\u003c/pre\\u003e\\u003c/li\\u003e\\n\\u003c/ul\\u003e\\n{{ end }}\\n\\u003c/body\\u003e\\n\\u003c/html\\u003e\\nEOT\\n}\\n\"},\"kind\":\"ConfigMap\",\"metadata\":{\"annotations\":{},\"name\":\"example-vault-agent-config\",\"namespace\":\"default\"}}\n",
      "  creationTimestamp: \"2023-04-19T15:00:01Z\"\n",
      "  name: example-vault-agent-config\n",
      "  namespace: default\n",
      "  resourceVersion: \"5028\"\n",
      "  uid: 02a56cfb-d245-4b6e-9f3e-3f3d10dcfeb5\n"
     ]
    }
   ],
   "source": [
    "%%bash\n",
    "kubectl apply --filename configmap.yaml\n",
    "kubectl get configmap example-vault-agent-config --output yaml"
   ]
  },
  {
   "cell_type": "code",
   "execution_count": 80,
   "metadata": {},
   "outputs": [],
   "source": [
    "%%bash\n",
    "cat > example-k8s-spec.yaml <<EOF\n",
    "apiVersion: v1\n",
    "kind: Pod\n",
    "metadata:\n",
    "  name: vault-agent-example\n",
    "  namespace: default\n",
    "spec:\n",
    "  serviceAccountName: vault-auth\n",
    "\n",
    "  volumes:\n",
    "    - configMap:\n",
    "        items:\n",
    "          - key: vault-agent-config.hcl\n",
    "            path: vault-agent-config.hcl\n",
    "        name: example-vault-agent-config\n",
    "      name: config\n",
    "    - emptyDir: {}\n",
    "      name: shared-data\n",
    "\n",
    "  initContainers:\n",
    "    - args:\n",
    "        - agent\n",
    "        - -config=/etc/vault/vault-agent-config.hcl\n",
    "        - -log-level=debug\n",
    "      image: docker.io/hashicorp/vault\n",
    "      name: vault-agent\n",
    "      volumeMounts:\n",
    "        - mountPath: /etc/vault\n",
    "          name: config\n",
    "        - mountPath: /etc/secrets\n",
    "          name: shared-data\n",
    "\n",
    "  containers:\n",
    "    - image: nginx\n",
    "      name: nginx-container\n",
    "      ports:\n",
    "        - containerPort: 80\n",
    "      volumeMounts:\n",
    "        - mountPath: /usr/share/nginx/html\n",
    "          name: shared-data\n",
    "EOF\n"
   ]
  },
  {
   "cell_type": "code",
   "execution_count": 81,
   "metadata": {},
   "outputs": [
    {
     "name": "stdout",
     "output_type": "stream",
     "text": [
      "pod/vault-agent-example created\n"
     ]
    }
   ],
   "source": [
    "%%bash\n",
    "kubectl apply --filename example-k8s-spec.yaml"
   ]
  },
  {
   "cell_type": "markdown",
   "metadata": {},
   "source": []
  },
  {
   "cell_type": "code",
   "execution_count": null,
   "metadata": {},
   "outputs": [],
   "source": [
    "%%bash\n",
    "#kubectl -n $VAULT_K8S_NAMESPACE get service vault\n",
    "kubectl port-forward pod/vault-agent-example 8080:80"
   ]
  },
  {
   "cell_type": "code",
   "execution_count": 83,
   "metadata": {},
   "outputs": [
    {
     "name": "stderr",
     "output_type": "stream",
     "text": [
      "Error from server (NotFound): error when deleting \"example-k8s-spec.yaml\": pods \"vault-agent-example\" not found\n"
     ]
    },
    {
     "name": "stdout",
     "output_type": "stream",
     "text": [
      "pod \"devwebapp\" deleted\n"
     ]
    }
   ],
   "source": [
    "%%bash\n",
    "kubectl delete --filename example-k8s-spec.yaml\n",
    "kubectl delete -f devwebapp.yaml"
   ]
  }
 ],
 "metadata": {
  "kernelspec": {
   "display_name": "Python 3",
   "language": "python",
   "name": "python3"
  },
  "language_info": {
   "codemirror_mode": {
    "name": "ipython",
    "version": 3
   },
   "file_extension": ".py",
   "mimetype": "text/x-python",
   "name": "python",
   "nbconvert_exporter": "python",
   "pygments_lexer": "ipython3",
   "version": "3.9.6"
  },
  "orig_nbformat": 4,
  "vscode": {
   "interpreter": {
    "hash": "31f2aee4e71d21fbe5cf8b01ff0e069b9275f58929596ceb00d14d90e3e16cd6"
   }
  }
 },
 "nbformat": 4,
 "nbformat_minor": 2
}
