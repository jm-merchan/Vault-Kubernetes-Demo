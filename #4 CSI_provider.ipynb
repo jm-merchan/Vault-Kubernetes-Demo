{
 "cells": [
  {
   "cell_type": "code",
   "execution_count": 1,
   "metadata": {},
   "outputs": [
    {
     "name": "stdout",
     "output_type": "stream",
     "text": [
      "env: WORKDIR=/tmp/vault\n",
      "env: VAULT_K8S_NAMESPACE=vault\n",
      "env: VAULT_HELM_RELEASE_NAME=vault\n",
      "env: VAULT_SERVICE_NAME=vault-internal\n",
      "env: K8S_CLUSTER_NAME=cluster.local\n"
     ]
    }
   ],
   "source": [
    "%env WORKDIR=/tmp/vault\n",
    "%env VAULT_K8S_NAMESPACE=vault\n",
    "%env VAULT_HELM_RELEASE_NAME=vault\n",
    "%env VAULT_SERVICE_NAME=vault-internal \n",
    "%env K8S_CLUSTER_NAME=cluster.local "
   ]
  },
  {
   "cell_type": "code",
   "execution_count": 2,
   "metadata": {},
   "outputs": [],
   "source": [
    "%%bash\n",
    "cat > ${WORKDIR}/overrides_csi.yaml <<EOF\n",
    "global:\n",
    "   enabled: true\n",
    "   tlsDisable: false # Disabling TLS to avoid issues when connecting to Vault via port forwarding\n",
    "\n",
    "csi:\n",
    "  enabled: true\n",
    "  image:\n",
    "    repository: hashicorp/vault-csi-provider\n",
    "\n",
    "\n",
    "injector:\n",
    "   enabled: false\n",
    "   #repository: registry.connect.redhat.com/hashicorp/vault-k8s\n",
    "   # Testing on Mac M1 so moving to arm image\n",
    "   image:\n",
    "      repository: docker.io/hashicorp/vault-k8s\n",
    "      #repository: registry.connect.redhat.com/hashicorp/vault-k8s\n",
    "      # Testing on Mac M1 so moving to arm image\n",
    "   agentImage:\n",
    "      repository: docker.io/hashicorp/vault\n",
    "      #repository: registry.connect.redhat.com/hashicorp/vault\n",
    "      # Testing on Mac M1 so moving to arm image\n",
    "\n",
    "# Supported log levels include: trace, debug, info, warn, error\n",
    "logLevel: \"trace\" # Set to trace for initial troubleshooting, info for normal operation\n",
    "\n",
    "server:\n",
    "# config.yaml\n",
    "   image:\n",
    "      repository: docker.io/hashicorp/vault-enterprise\n",
    "      tag: 1.13.1-ent\n",
    "\n",
    "   enterpriseLicense:\n",
    "      secretName: vault-ent-license\n",
    "   extraEnvironmentVars:\n",
    "      VAULT_CACERT: /vault/userconfig/vault-ha-tls/vault.ca\n",
    "      VAULT_TLSCERT: /vault/userconfig/vault-ha-tls/vault.crt\n",
    "      VAULT_TLSKEY: /vault/userconfig/vault-ha-tls/vault.key\n",
    "   volumes:\n",
    "      - name: userconfig-vault-ha-tls\n",
    "        secret:\n",
    "         defaultMode: 420\n",
    "         secretName: vault-ha-tls\n",
    "   volumeMounts:\n",
    "      - mountPath: /vault/userconfig/vault-ha-tls\n",
    "        name: userconfig-vault-ha-tls\n",
    "        readOnly: true\n",
    "   standalone:\n",
    "      enabled: false\n",
    "   affinity: \"\"\n",
    "   ha:\n",
    "      enabled: true\n",
    "      replicas: 3\n",
    "      raft:\n",
    "         enabled: true\n",
    "         setNodeId: true\n",
    "         config: |\n",
    "            ui = true\n",
    "            listener \"tcp\" {\n",
    "               tls_disable = 0 # Disabling TLS to avoid issues when connecting to Vault via port forwarding\n",
    "               address = \"[::]:8200\"\n",
    "               cluster_address = \"[::]:8201\"\n",
    "               tls_cert_file = \"/vault/userconfig/vault-ha-tls/vault.crt\"\n",
    "               tls_key_file  = \"/vault/userconfig/vault-ha-tls/vault.key\"\n",
    "               tls_client_ca_file = \"/vault/userconfig/vault-ha-tls/vault.ca\"\n",
    "               api_address = \"https://vault-active.vault.svc.cluster.local:8200\"\n",
    "            }\n",
    "            storage \"raft\" {\n",
    "               path = \"/vault/data\"\n",
    "            \n",
    "               retry_join {\n",
    "                  auto_join             = \"provider=k8s namespace=vault label_selector=\\\"component=server,app.kubernetes.io/name=vault\\\"\"\n",
    "                  auto_join_scheme      = \"https\"\n",
    "                  leader_ca_cert_file   = \"/vault/userconfig/vault-ha-tls/vault.ca\"\n",
    "                  leader_tls_servername = \"vaultpr-0.vault-internal\" #Tiene que matchear una SAN del certificado\n",
    "               }\n",
    "            \n",
    "            }\n",
    "            disable_mlock = true\n",
    "            service_registration \"kubernetes\" {}\n",
    "EOF\n"
   ]
  },
  {
   "cell_type": "code",
   "execution_count": 3,
   "metadata": {},
   "outputs": [
    {
     "name": "stdout",
     "output_type": "stream",
     "text": [
      "Release \"vault\" has been upgraded. Happy Helming!\n",
      "NAME: vault\n",
      "LAST DEPLOYED: Thu Apr 27 11:31:36 2023\n",
      "NAMESPACE: vault\n",
      "STATUS: deployed\n",
      "REVISION: 3\n",
      "NOTES:\n",
      "Thank you for installing HashiCorp Vault!\n",
      "\n",
      "Now that you have deployed Vault, you should look over the docs on using\n",
      "Vault with Kubernetes available here:\n",
      "\n",
      "https://www.vaultproject.io/docs/\n",
      "\n",
      "\n",
      "Your release is named vault. To learn more about the release, try:\n",
      "\n",
      "  $ helm status vault\n",
      "  $ helm get manifest vault\n"
     ]
    }
   ],
   "source": [
    "%%bash\n",
    "\n",
    "helm upgrade -n $VAULT_K8S_NAMESPACE $VAULT_HELM_RELEASE_NAME hashicorp/vault -f ${WORKDIR}/overrides_csi.yaml "
   ]
  },
  {
   "cell_type": "code",
   "execution_count": 4,
   "metadata": {},
   "outputs": [
    {
     "name": "stdout",
     "output_type": "stream",
     "text": [
      "Key                     Value\n",
      "---                     -----\n",
      "Seal Type               shamir\n",
      "Initialized             true\n",
      "Sealed                  false\n",
      "Total Shares            1\n",
      "Threshold               1\n",
      "Version                 1.13.1+ent\n",
      "Build Date              2023-03-23T20:09:57Z\n",
      "Storage Type            raft\n",
      "Cluster Name            vault-cluster-b636cc4a\n",
      "Cluster ID              c1a91f42-31d2-ba5b-e4e2-2e91c445a8ed\n",
      "HA Enabled              true\n",
      "HA Cluster              https://vault-0.vault-internal:8201\n",
      "HA Mode                 active\n",
      "Active Since            2023-04-27T09:05:07.219118672Z\n",
      "Raft Committed Index    790\n",
      "Raft Applied Index      790\n",
      "Last WAL                56\n"
     ]
    }
   ],
   "source": [
    "%%bash\n",
    "kubectl exec -n $VAULT_K8S_NAMESPACE vault-0 -- vault operator unseal $(jq -r \".unseal_keys_b64[]\" ${WORKDIR}/cluster-keys.json)"
   ]
  },
  {
   "cell_type": "code",
   "execution_count": 5,
   "metadata": {},
   "outputs": [
    {
     "name": "stdout",
     "output_type": "stream",
     "text": [
      "Key                                    Value\n",
      "---                                    -----\n",
      "Seal Type                              shamir\n",
      "Initialized                            true\n",
      "Sealed                                 false\n",
      "Total Shares                           1\n",
      "Threshold                              1\n",
      "Version                                1.13.1+ent\n",
      "Build Date                             2023-03-23T20:09:57Z\n",
      "Storage Type                           raft\n",
      "Cluster Name                           vault-cluster-b636cc4a\n",
      "Cluster ID                             c1a91f42-31d2-ba5b-e4e2-2e91c445a8ed\n",
      "HA Enabled                             true\n",
      "HA Cluster                             https://vault-0.vault-internal:8201\n",
      "HA Mode                                standby\n",
      "Active Node Address                    https://10.244.0.8:8200\n",
      "Performance Standby Node               true\n",
      "Performance Standby Last Remote WAL    56\n",
      "Raft Committed Index                   790\n",
      "Raft Applied Index                     790\n"
     ]
    }
   ],
   "source": [
    "%%bash\n",
    "kubectl exec -n $VAULT_K8S_NAMESPACE vault-1 -- vault operator unseal $(jq -r \".unseal_keys_b64[]\" ${WORKDIR}/cluster-keys.json)"
   ]
  },
  {
   "cell_type": "code",
   "execution_count": 6,
   "metadata": {},
   "outputs": [
    {
     "name": "stdout",
     "output_type": "stream",
     "text": [
      "Key                                    Value\n",
      "---                                    -----\n",
      "Seal Type                              shamir\n",
      "Initialized                            true\n",
      "Sealed                                 false\n",
      "Total Shares                           1\n",
      "Threshold                              1\n",
      "Version                                1.13.1+ent\n",
      "Build Date                             2023-03-23T20:09:57Z\n",
      "Storage Type                           raft\n",
      "Cluster Name                           vault-cluster-b636cc4a\n",
      "Cluster ID                             c1a91f42-31d2-ba5b-e4e2-2e91c445a8ed\n",
      "HA Enabled                             true\n",
      "HA Cluster                             https://vault-0.vault-internal:8201\n",
      "HA Mode                                standby\n",
      "Active Node Address                    https://10.244.0.8:8200\n",
      "Performance Standby Node               true\n",
      "Performance Standby Last Remote WAL    56\n",
      "Raft Committed Index                   792\n",
      "Raft Applied Index                     792\n"
     ]
    }
   ],
   "source": [
    "%%bash\n",
    "kubectl exec -n $VAULT_K8S_NAMESPACE vault-2 -- vault operator unseal $(jq -r \".unseal_keys_b64[]\" ${WORKDIR}/cluster-keys.json)"
   ]
  },
  {
   "cell_type": "code",
   "execution_count": 7,
   "metadata": {},
   "outputs": [
    {
     "name": "stdout",
     "output_type": "stream",
     "text": [
      "hvs.22iw9eugNC3Kcdsv8Y9fHDHG\n"
     ]
    }
   ],
   "source": [
    "%%bash\n",
    "cat ${WORKDIR}/cluster-keys.json | jq -r \".root_token\""
   ]
  },
  {
   "cell_type": "code",
   "execution_count": 8,
   "metadata": {},
   "outputs": [
    {
     "name": "stdout",
     "output_type": "stream",
     "text": [
      "env: VAULT_ADDR=https://127.0.0.1:8200\n",
      "env: VAULT_TOKEN=hvs.22iw9eugNC3Kcdsv8Y9fHDHG\n",
      "env: VAULT_CACERT=/tmp/vault/vault.ca\n"
     ]
    }
   ],
   "source": [
    "%env VAULT_ADDR=https://127.0.0.1:8200\n",
    "%env VAULT_TOKEN=hvs.22iw9eugNC3Kcdsv8Y9fHDHG\n",
    "%env VAULT_CACERT=/tmp/vault/vault.ca"
   ]
  },
  {
   "cell_type": "code",
   "execution_count": 9,
   "metadata": {},
   "outputs": [
    {
     "name": "stdout",
     "output_type": "stream",
     "text": [
      "Success! Uploaded policy: internal-app\n"
     ]
    }
   ],
   "source": [
    "%%bash\n",
    "## Create K8S Auth method with mock data\n",
    "vault policy write internal-app - <<EOF\n",
    "path \"secret/data/*\" {\n",
    "  capabilities = [\"read\"]\n",
    "}\n",
    "EOF\n",
    "\n"
   ]
  },
  {
   "cell_type": "code",
   "execution_count": 10,
   "metadata": {},
   "outputs": [
    {
     "name": "stdout",
     "output_type": "stream",
     "text": [
      "Success! Enabled the kv-v2 secrets engine at: secret/\n"
     ]
    }
   ],
   "source": [
    "%%bash\n",
    "vault secrets enable -path=secret kv-v2"
   ]
  },
  {
   "cell_type": "code",
   "execution_count": 11,
   "metadata": {},
   "outputs": [
    {
     "name": "stdout",
     "output_type": "stream",
     "text": [
      "=== Secret Path ===\n",
      "secret/data/db-pass\n",
      "\n",
      "======= Metadata =======\n",
      "Key                Value\n",
      "---                -----\n",
      "created_time       2023-04-27T09:32:43.862826508Z\n",
      "custom_metadata    <nil>\n",
      "deletion_time      n/a\n",
      "destroyed          false\n",
      "version            1\n",
      "==== Secret Path ====\n",
      "secret/data/db-pass2\n",
      "\n",
      "======= Metadata =======\n",
      "Key                Value\n",
      "---                -----\n",
      "created_time       2023-04-27T09:32:43.950936508Z\n",
      "custom_metadata    <nil>\n",
      "deletion_time      n/a\n",
      "destroyed          false\n",
      "version            1\n"
     ]
    }
   ],
   "source": [
    "%%bash\n",
    "vault kv put secret/db-pass password=\"db-secret-password\"\n",
    "vault kv put secret/db-pass2 user=\"test\" password=\"db-secret-password2\""
   ]
  },
  {
   "cell_type": "raw",
   "metadata": {},
   "source": [
    "##In a terminal\n",
    "kubectl exec -n vault vault-0 -i -t -- /bin/sh\n",
    "---\n",
    "vault login <root_token>\n",
    "vault auth enable kubernetes\n",
    "\n",
    "vault write auth/kubernetes/config \\\n",
    "    kubernetes_host=https://$KUBERNETES_SERVICE_HOST:$KUBERNETES_SERVICE_PORT\n",
    "\n",
    "vault write auth/kubernetes/role/example \\\n",
    "     bound_service_account_names=vault-auth \\\n",
    "     bound_service_account_namespaces=default \\\n",
    "     token_policies=myapp-kv-ro \\\n",
    "     ttl=24h"
   ]
  },
  {
   "cell_type": "code",
   "execution_count": 22,
   "metadata": {},
   "outputs": [
    {
     "name": "stdout",
     "output_type": "stream",
     "text": [
      "Success! Data written to: auth/kubernetes/role/database\n"
     ]
    }
   ],
   "source": [
    "%%bash\n",
    "vault write auth/kubernetes/role/database \\\n",
    "    bound_service_account_names=webapp-sa \\\n",
    "    bound_service_account_namespaces=default \\\n",
    "    policies=internal-app \\\n",
    "    ttl=20m\n"
   ]
  },
  {
   "cell_type": "code",
   "execution_count": 12,
   "metadata": {},
   "outputs": [
    {
     "name": "stdout",
     "output_type": "stream",
     "text": [
      "\"secrets-store-csi-driver\" already exists with the same configuration, skipping\n",
      "NAME: csi\n",
      "LAST DEPLOYED: Thu Apr 27 11:33:27 2023\n",
      "NAMESPACE: default\n",
      "STATUS: deployed\n",
      "REVISION: 1\n",
      "TEST SUITE: None\n",
      "NOTES:\n",
      "The Secrets Store CSI Driver is getting deployed to your cluster.\n",
      "\n",
      "To verify that Secrets Store CSI Driver has started, run:\n",
      "\n",
      "  kubectl --namespace=default get pods -l \"app=secrets-store-csi-driver\"\n",
      "\n",
      "Now you can follow these steps https://secrets-store-csi-driver.sigs.k8s.io/getting-started/usage.html\n",
      "to create a SecretProviderClass resource, and a deployment using the SecretProviderClass.\n"
     ]
    }
   ],
   "source": [
    "%%bash\n",
    "helm repo add secrets-store-csi-driver https://kubernetes-sigs.github.io/secrets-store-csi-driver/charts\n",
    "helm install csi secrets-store-csi-driver/secrets-store-csi-driver \\\n",
    "    --set syncSecret.enabled=true\n"
   ]
  },
  {
   "cell_type": "code",
   "execution_count": 17,
   "metadata": {},
   "outputs": [
    {
     "name": "stdout",
     "output_type": "stream",
     "text": [
      "NAME                                 READY   STATUS    RESTARTS   AGE\n",
      "csi-secrets-store-csi-driver-7njnt   3/3     Running   0          41s\n"
     ]
    }
   ],
   "source": [
    "%%bash\n",
    "kubectl get pods"
   ]
  },
  {
   "cell_type": "code",
   "execution_count": 48,
   "metadata": {},
   "outputs": [
    {
     "name": "stdout",
     "output_type": "stream",
     "text": [
      "secretproviderclass.secrets-store.csi.x-k8s.io/vault-database configured\n"
     ]
    }
   ],
   "source": [
    "%%bash\n",
    "cat > spc-vault-database.yaml <<EOF\n",
    "apiVersion: secrets-store.csi.x-k8s.io/v1\n",
    "kind: SecretProviderClass\n",
    "metadata:\n",
    "  name: vault-database\n",
    "spec:\n",
    "  # https://developer.hashicorp.com/vault/docs/platform/k8s/csi/configurations \n",
    "  provider: vault\n",
    "  parameters:\n",
    "    vaultAddress: \"https://vault-internal.vault.svc.cluster.local:8200\"\n",
    "    vaultSkipTLSVerify: \"true\"\n",
    "    roleName: \"database\"\n",
    "    objects: |\n",
    "      - objectName: \"db-password\"\n",
    "        secretPath: \"secret/data/db-pass\"\n",
    "        secretKey: \"password\"\n",
    "EOF\n",
    "kubectl apply --filename spc-vault-database.yaml"
   ]
  },
  {
   "cell_type": "code",
   "execution_count": 19,
   "metadata": {},
   "outputs": [
    {
     "name": "stdout",
     "output_type": "stream",
     "text": [
      "Name:         vault-database\n",
      "Namespace:    default\n",
      "Labels:       <none>\n",
      "Annotations:  <none>\n",
      "API Version:  secrets-store.csi.x-k8s.io/v1\n",
      "Kind:         SecretProviderClass\n",
      "Metadata:\n",
      "  Creation Timestamp:  2023-04-27T09:40:04Z\n",
      "  Generation:          1\n",
      "  Managed Fields:\n",
      "    API Version:  secrets-store.csi.x-k8s.io/v1\n",
      "    Fields Type:  FieldsV1\n",
      "    fieldsV1:\n",
      "      f:metadata:\n",
      "        f:annotations:\n",
      "          .:\n",
      "          f:kubectl.kubernetes.io/last-applied-configuration:\n",
      "      f:spec:\n",
      "        .:\n",
      "        f:parameters:\n",
      "          .:\n",
      "          f:objects:\n",
      "          f:roleName:\n",
      "          f:vaultAddress:\n",
      "          f:vaultSkipTLSVerify:\n",
      "        f:provider:\n",
      "    Manager:         kubectl-client-side-apply\n",
      "    Operation:       Update\n",
      "    Time:            2023-04-27T09:40:04Z\n",
      "  Resource Version:  4108\n",
      "  UID:               17289105-8ead-4783-86e0-f619661e0dd1\n",
      "Spec:\n",
      "  Parameters:\n",
      "    Objects:  - objectName: \"db-password\"\n",
      "  secretPath: \"secret/data/*\"\n",
      "\n",
      "    Role Name:              database\n",
      "    Vault Address:          https://vault-internal.vault.svc.cluster.local:8200\n",
      "    Vault Skip TLS Verify:  true\n",
      "  Provider:                 vault\n",
      "Events:                     <none>\n"
     ]
    }
   ],
   "source": [
    "%%bash\n",
    "kubectl describe SecretProviderClass vault-database"
   ]
  },
  {
   "cell_type": "code",
   "execution_count": 20,
   "metadata": {},
   "outputs": [
    {
     "name": "stdout",
     "output_type": "stream",
     "text": [
      "serviceaccount/webapp-sa created\n"
     ]
    }
   ],
   "source": [
    "%%bash\n",
    "kubectl create serviceaccount webapp-sa"
   ]
  },
  {
   "cell_type": "markdown",
   "metadata": {},
   "source": []
  },
  {
   "cell_type": "code",
   "execution_count": 27,
   "metadata": {},
   "outputs": [
    {
     "name": "stderr",
     "output_type": "stream",
     "text": [
      "Warning: Detected changes to resource webapp which is currently being deleted.\n"
     ]
    },
    {
     "name": "stdout",
     "output_type": "stream",
     "text": [
      "pod/webapp configured\n"
     ]
    }
   ],
   "source": [
    "%%bash\n",
    "cat > webapp-pod.yaml <<EOF\n",
    "kind: Pod\n",
    "apiVersion: v1\n",
    "metadata:\n",
    "  name: webapp\n",
    "spec:\n",
    "  serviceAccountName: webapp-sa\n",
    "  containers:\n",
    "  - image: jweissig/app:0.0.1\n",
    "    name: webapp\n",
    "    volumeMounts:\n",
    "    - name: secrets-store-inline\n",
    "      mountPath: \"/mnt/secrets-store\"\n",
    "      readOnly: true\n",
    "  volumes:\n",
    "    - name: secrets-store-inline\n",
    "      csi:\n",
    "        driver: secrets-store.csi.k8s.io\n",
    "        readOnly: true\n",
    "        volumeAttributes:\n",
    "          secretProviderClass: \"vault-database\"\n",
    "EOF\n",
    "kubectl apply --filename webapp-pod.yaml"
   ]
  },
  {
   "cell_type": "code",
   "execution_count": 52,
   "metadata": {},
   "outputs": [
    {
     "name": "stdout",
     "output_type": "stream",
     "text": [
      "db-secret-password"
     ]
    }
   ],
   "source": [
    "%%bash\n",
    "kubectl exec webapp -- cat /mnt/secrets-store/db-password"
   ]
  },
  {
   "attachments": {},
   "cell_type": "markdown",
   "metadata": {},
   "source": [
    "## Sync to Secret"
   ]
  },
  {
   "cell_type": "code",
   "execution_count": 53,
   "metadata": {},
   "outputs": [
    {
     "name": "stdout",
     "output_type": "stream",
     "text": [
      "secretproviderclass.secrets-store.csi.x-k8s.io/vault-database configured\n"
     ]
    }
   ],
   "source": [
    "%%bash\n",
    "cat > spc-vault-database.yaml <<EOF\n",
    "apiVersion: secrets-store.csi.x-k8s.io/v1\n",
    "kind: SecretProviderClass\n",
    "metadata:\n",
    "  name: vault-database\n",
    "spec:\n",
    "  provider: vault\n",
    "  secretObjects:\n",
    "  - data:\n",
    "    - key: password\n",
    "      objectName: db-password\n",
    "    secretName: dbpass\n",
    "    type: Opaque\n",
    "  parameters:\n",
    "    vaultAddress: \"https://vault-internal.vault.svc.cluster.local:8200\"\n",
    "    vaultSkipTLSVerify: \"true\"\n",
    "    roleName: \"database\"\n",
    "    objects: |\n",
    "      - objectName: \"db-password\"\n",
    "        secretPath: \"secret/data/db-pass\"\n",
    "        secretKey: \"password\"\n",
    "EOF\n",
    "kubectl apply --filename spc-vault-database.yaml"
   ]
  },
  {
   "cell_type": "code",
   "execution_count": 54,
   "metadata": {},
   "outputs": [
    {
     "name": "stdout",
     "output_type": "stream",
     "text": [
      "pod \"webapp\" deleted\n",
      "pod/webapp created\n"
     ]
    }
   ],
   "source": [
    "%%bash\n",
    "cat > webapp-pod.yaml <<EOF\n",
    "kind: Pod\n",
    "apiVersion: v1\n",
    "metadata:\n",
    "  name: webapp\n",
    "spec:\n",
    "  serviceAccountName: webapp-sa\n",
    "  containers:\n",
    "  - image: jweissig/app:0.0.1\n",
    "    name: webapp\n",
    "    env:\n",
    "    - name: DB_PASSWORD\n",
    "      valueFrom:\n",
    "        secretKeyRef:\n",
    "          name: dbpass\n",
    "          key: password\n",
    "    volumeMounts:\n",
    "    - name: secrets-store-inline\n",
    "      mountPath: \"/mnt/secrets-store\"\n",
    "      readOnly: true\n",
    "  volumes:\n",
    "    - name: secrets-store-inline\n",
    "      csi:\n",
    "        driver: secrets-store.csi.k8s.io\n",
    "        readOnly: true\n",
    "        volumeAttributes:\n",
    "          secretProviderClass: \"vault-database\"\n",
    "EOF\n",
    "## Delete deployment and redeploy\n",
    "kubectl delete pod webapp && kubectl apply --filename webapp-pod.yaml"
   ]
  },
  {
   "cell_type": "code",
   "execution_count": 55,
   "metadata": {},
   "outputs": [
    {
     "name": "stdout",
     "output_type": "stream",
     "text": [
      "NAME     TYPE     DATA   AGE\n",
      "dbpass   Opaque   1      18s\n"
     ]
    }
   ],
   "source": [
    "%%bash\n",
    "#Verify secrets is created\n",
    "kubectl get secret dbpass"
   ]
  },
  {
   "cell_type": "code",
   "execution_count": 56,
   "metadata": {},
   "outputs": [
    {
     "name": "stdout",
     "output_type": "stream",
     "text": [
      "DB_PASSWORD=db-secret-password\n"
     ]
    }
   ],
   "source": [
    "%%bash\n",
    "# Check secret as environmental variable\n",
    "kubectl exec webapp -- env | grep DB_PASSWORD"
   ]
  },
  {
   "cell_type": "code",
   "execution_count": 57,
   "metadata": {},
   "outputs": [
    {
     "name": "stdout",
     "output_type": "stream",
     "text": [
      "pod \"webapp\" deleted\n",
      "release \"vault\" uninstalled\n"
     ]
    }
   ],
   "source": [
    "%%bash\n",
    "kubectl delete pod webapp\n",
    "helm uninstall vault -n vault"
   ]
  }
 ],
 "metadata": {
  "kernelspec": {
   "display_name": "Python 3",
   "language": "python",
   "name": "python3"
  },
  "language_info": {
   "codemirror_mode": {
    "name": "ipython",
    "version": 3
   },
   "file_extension": ".py",
   "mimetype": "text/x-python",
   "name": "python",
   "nbconvert_exporter": "python",
   "pygments_lexer": "ipython3",
   "version": "3.9.6"
  },
  "orig_nbformat": 4,
  "vscode": {
   "interpreter": {
    "hash": "31f2aee4e71d21fbe5cf8b01ff0e069b9275f58929596ceb00d14d90e3e16cd6"
   }
  }
 },
 "nbformat": 4,
 "nbformat_minor": 2
}
